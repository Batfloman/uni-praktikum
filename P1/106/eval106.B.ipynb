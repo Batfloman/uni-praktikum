{
 "cells": [
  {
   "cell_type": "code",
   "execution_count": 8,
   "metadata": {},
   "outputs": [],
   "source": [
    "import sys\n",
    "import os\n",
    "\n",
    "# Get the current directory of the notebook\n",
    "notebook_dir = os.path.abspath('')\n",
    "# Add the parent directory (project directory) to the Python path\n",
    "project_dir = os.path.dirname(notebook_dir)\n",
    "sys.path.append(project_dir)"
   ]
  },
  {
   "cell_type": "markdown",
   "metadata": {},
   "source": [
    "<hr>"
   ]
  },
  {
   "cell_type": "code",
   "execution_count": 9,
   "metadata": {},
   "outputs": [],
   "source": [
    "from util.structs import Measurement;\n",
    "\n",
    "big_wheel = {\n",
    "  \"name\": \"big wheel\",\n",
    "  \"r\": Measurement(10e-2, 0, \"m\"),\n",
    "  \"d\": Measurement(2e-2, 0, \"m\")\n",
    "}\n",
    "small_wheel = {\n",
    "  \"name\": \"small wheel\",\n",
    "  \"r\": Measurement(2.5e-2, 0, \"m\"),\n",
    "  \"d\": Measurement(1e-2, 0, \"m\")\n",
    "}\n",
    "\n",
    "wheels = [big_wheel, small_wheel]"
   ]
  },
  {
   "cell_type": "code",
   "execution_count": 10,
   "metadata": {},
   "outputs": [
    {
     "name": "stdout",
     "output_type": "stream",
     "text": [
      "big wheel:\n",
      "  V = (  0.628 ±   0.000)e-3.0\n",
      "small wheel:\n",
      "  V = (  0.020 ±   0.000)e-3.0\n"
     ]
    }
   ],
   "source": [
    "import formulars\n",
    "\n",
    "for wheel in wheels: \n",
    "  wheel[\"V\"] = formulars.calc_wheel_volume(wheel[\"r\"], wheel[\"d\"])\n",
    "  print(f\"{wheel['name']}:\\n  V = {wheel['V']}\")"
   ]
  },
  {
   "cell_type": "code",
   "execution_count": 11,
   "metadata": {},
   "outputs": [
    {
     "name": "stdout",
     "output_type": "stream",
     "text": [
      "big wheel:\n",
      "  m = (  1.696 ±   0.000) [kg]\n",
      "small wheel:\n",
      "  m = (  0.053 ±   0.000) [kg]\n"
     ]
    }
   ],
   "source": [
    "t = Measurement(2.7e3, 0);\n",
    "\n",
    "for wheel in wheels:\n",
    "  wheel[\"m\"] = formulars.calc_wheel_mass(wheel[\"V\"], t)\n",
    "  wheel[\"m\"].unit = \"kg\"\n",
    "  print(f\"{wheel['name']}:\\n  m = {wheel['m']}\")"
   ]
  },
  {
   "cell_type": "code",
   "execution_count": 12,
   "metadata": {},
   "outputs": [
    {
     "name": "stdout",
     "output_type": "stream",
     "text": [
      "big wheel:\n",
      "  I = (  8.482 ±   0.000)e-3.0 [kg m^2]\n",
      "small wheel:\n",
      "  I = (  0.017 ±   0.000)e-3.0 [kg m^2]\n"
     ]
    }
   ],
   "source": [
    "for wheel in wheels:\n",
    "  wheel[\"I\"] = formulars.calc_wheel_moment_of_inertia(wheel[\"m\"], wheel[\"r\"]);\n",
    "  wheel[\"I\"].unit = \"kg m^2\"\n",
    "  print(f\"{wheel['name']}:\\n  I = {wheel['I']}\")"
   ]
  },
  {
   "cell_type": "code",
   "execution_count": 13,
   "metadata": {},
   "outputs": [
    {
     "name": "stdout",
     "output_type": "stream",
     "text": [
      "big wheel:\n",
      "  r = (  0.100 ±   0.000) [m]\n",
      "  d = (  0.020 ±   0.000) [m]\n",
      "  V = (  0.628 ±   0.000)e-3.0\n",
      "  m = (  1.696 ±   0.000) [kg]\n",
      "  I = (  8.482 ±   0.000)e-3.0 [kg m^2]\n",
      "small wheel:\n",
      "  r = (  0.025 ±   0.000) [m]\n",
      "  d = (  0.010 ±   0.000) [m]\n",
      "  V = (  0.020 ±   0.000)e-3.0\n",
      "  m = (  0.053 ±   0.000) [kg]\n",
      "  I = (  0.017 ±   0.000)e-3.0 [kg m^2]\n"
     ]
    }
   ],
   "source": [
    "for wheel in wheels:\n",
    "  print(f\"{wheel['name']}:\")\n",
    "  for attr in wheel: \n",
    "    if(attr == \"name\"): continue;\n",
    "    print(f\"  {attr} = {wheel[attr]}\");"
   ]
  },
  {
   "cell_type": "code",
   "execution_count": 14,
   "metadata": {},
   "outputs": [
    {
     "name": "stdout",
     "output_type": "stream",
     "text": [
      "(  8.499 ±   0.000)e-3.0 [kg m^2]\n"
     ]
    }
   ],
   "source": [
    "I_total = big_wheel[\"I\"] + small_wheel[\"I\"]\n",
    "print(I_total)"
   ]
  },
  {
   "cell_type": "code",
   "execution_count": null,
   "metadata": {},
   "outputs": [],
   "source": []
  }
 ],
 "metadata": {
  "kernelspec": {
   "display_name": "Python 3",
   "language": "python",
   "name": "python3"
  },
  "language_info": {
   "codemirror_mode": {
    "name": "ipython",
    "version": 3
   },
   "file_extension": ".py",
   "mimetype": "text/x-python",
   "name": "python",
   "nbconvert_exporter": "python",
   "pygments_lexer": "ipython3",
   "version": "3.11.9"
  }
 },
 "nbformat": 4,
 "nbformat_minor": 2
}
