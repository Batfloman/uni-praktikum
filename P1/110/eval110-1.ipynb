{
 "cells": [
  {
   "cell_type": "code",
   "execution_count": 1,
   "metadata": {},
   "outputs": [],
   "source": [
    "import sys\n",
    "import os\n",
    "\n",
    "# Get the current directory of the notebook\n",
    "notebook_dir = os.path.abspath('')\n",
    "# Get the parent directory (project directory)\n",
    "project_dir = os.path.dirname(notebook_dir)\n",
    "# Get the parent of the parent directory (grandparent directory)\n",
    "grandparent_dir = os.path.dirname(project_dir)\n",
    "# Add the grandparent directory to the Python path\n",
    "sys.path.append(grandparent_dir)"
   ]
  },
  {
   "cell_type": "markdown",
   "metadata": {},
   "source": [
    "<hr>"
   ]
  },
  {
   "cell_type": "code",
   "execution_count": 2,
   "metadata": {},
   "outputs": [],
   "source": [
    "from util.structs import Measurement\n",
    "\n",
    "masse_Becher = Measurement(90e-3, 1e-3)\n",
    "masse_Wasser_Kupfer = Measurement(100e-3, 2e-3)\n",
    "masse_Wasser_Aluminium = Measurement(125e-3, 2e-3)\n",
    "masse_Wasser_Stahl = Measurement(112e-3, 2e-3)"
   ]
  },
  {
   "cell_type": "code",
   "execution_count": 3,
   "metadata": {},
   "outputs": [
    {
     "name": "stdout",
     "output_type": "stream",
     "text": [
      "(452.430 ±   8.378)\n",
      "(557.055 ±   8.378)\n",
      "(502.650 ±   8.378)\n"
     ]
    }
   ],
   "source": [
    "import formulars\n",
    "\n",
    "C_Kal_Kupfer = formulars.calc_C_Kal(masse_Wasser_Kupfer, masse_Becher)\n",
    "C_Kal_Aluminium = formulars.calc_C_Kal(masse_Wasser_Aluminium, masse_Becher)\n",
    "C_Kal_Stahl = formulars.calc_C_Kal(masse_Wasser_Stahl, masse_Becher)\n",
    "\n",
    "print(C_Kal_Kupfer)\n",
    "print(C_Kal_Aluminium)\n",
    "print(C_Kal_Stahl)"
   ]
  },
  {
   "cell_type": "code",
   "execution_count": 4,
   "metadata": {},
   "outputs": [
    {
     "name": "stdout",
     "output_type": "stream",
     "text": [
      "(175.498 ±  14.490)\n",
      "(122.741 ±  13.798)\n",
      "(171.846 ±  14.953)\n"
     ]
    }
   ],
   "source": [
    "hot_Temp = Measurement(100, 5)\n",
    "\n",
    "equal_Temp_Kupfer = Measurement(43.8, 0.9)\n",
    "cold_Temp_Kupfer = Measurement(22, 1.3)\n",
    "equal_Temp_Aluminium = Measurement(35.1, 0.7)\n",
    "cold_Temp_Aluminium = Measurement(20.8, 0.8)\n",
    "equal_Temp_Stahl = Measurement(41.5, 1.9)\n",
    "cold_Temp_Stahl = Measurement(21.5, 1.0)\n",
    "\n",
    "C_Kupfer = formulars.calc_C(C_Kal_Kupfer, hot_Temp, equal_Temp_Kupfer, cold_Temp_Kupfer)\n",
    "C_Aluminium = formulars.calc_C(C_Kal_Aluminium, hot_Temp, equal_Temp_Aluminium, cold_Temp_Aluminium)\n",
    "C_Stahl = formulars.calc_C(C_Kal_Stahl, hot_Temp, equal_Temp_Stahl, cold_Temp_Stahl)\n",
    "\n",
    "print(C_Kupfer)\n",
    "print(C_Aluminium)\n",
    "print(C_Stahl)\n"
   ]
  },
  {
   "cell_type": "code",
   "execution_count": 5,
   "metadata": {},
   "outputs": [
    {
     "name": "stdout",
     "output_type": "stream",
     "text": [
      "(347.520 ±  28.701)\n",
      "(786.801 ±  88.590)\n",
      "(384.443 ±  33.463)\n"
     ]
    }
   ],
   "source": [
    "mass_kupfer = Measurement(505e-3, 1e-3)\n",
    "mass_aluminium = Measurement(156e-3, 1e-3)\n",
    "mass_stahl = Measurement(447e-3, 1e-3)\n",
    "\n",
    "C_specific_Kupfer = formulars.calc_c_specific(C_Kupfer, mass_kupfer)\n",
    "C_specific_Aluminium = formulars.calc_c_specific(C_Aluminium, mass_aluminium)\n",
    "C_specific_Stahl = formulars.calc_c_specific(C_Stahl, mass_stahl)\n",
    "\n",
    "print(C_specific_Kupfer)\n",
    "print(C_specific_Aluminium)\n",
    "print(C_specific_Stahl)"
   ]
  },
  {
   "cell_type": "code",
   "execution_count": 6,
   "metadata": {},
   "outputs": [
    {
     "name": "stdout",
     "output_type": "stream",
     "text": [
      "(  7.948 ±   0.016)\n",
      "(  5.782 ±   0.037)\n",
      "(  8.004 ±   0.018)\n"
     ]
    }
   ],
   "source": [
    "molar_mass_kupfer = Measurement(63.54e-3, 0)\n",
    "molar_mass_aluminium = Measurement(26.98e-3, 0)\n",
    "molar_mass_stahl = Measurement(55.85e-3, 0)\n",
    "\n",
    "n_kupfer = formulars.calc_n(mass_kupfer, molar_mass_kupfer)\n",
    "n_aluminium = formulars.calc_n(mass_aluminium, molar_mass_aluminium)\n",
    "n_stahl = formulars.calc_n(mass_stahl, molar_mass_stahl)\n",
    "\n",
    "print(n_kupfer)\n",
    "print(n_aluminium)\n",
    "print(n_stahl)"
   ]
  },
  {
   "cell_type": "code",
   "execution_count": 7,
   "metadata": {},
   "outputs": [
    {
     "name": "stdout",
     "output_type": "stream",
     "text": [
      "( 22.081 ±   1.824)\n",
      "( 21.228 ±   2.390)\n",
      "( 21.471 ±   1.869)\n"
     ]
    }
   ],
   "source": [
    "c_m_kupfer = formulars.calc_c_molar(C_Kupfer, n_kupfer)\n",
    "c_m_aluminium = formulars.calc_c_molar(C_Aluminium, n_aluminium)\n",
    "c_m_stahl = formulars.calc_c_molar(C_Stahl, n_stahl)\n",
    "\n",
    "print(c_m_kupfer);\n",
    "print(c_m_aluminium);\n",
    "print(c_m_stahl);"
   ]
  },
  {
   "cell_type": "code",
   "execution_count": 8,
   "metadata": {},
   "outputs": [],
   "source": [
    "from util import excel_table\n",
    "import numpy as np;\n",
    "\n",
    "kupfer_data = excel_table.read(\"./data/110-1-Kupfer\", has_header=True)\n",
    "aluminium_data = excel_table.read(\"./data/110-1-Aluminium\", has_header=True)\n",
    "stahl_data = excel_table.read(\"./data/110-1-Stahl\", has_header=True)\n",
    "\n",
    "np.set_printoptions(suppress=True)\n",
    "# print(stahl_data)"
   ]
  },
  {
   "cell_type": "code",
   "execution_count": 9,
   "metadata": {},
   "outputs": [],
   "source": [
    "# import formulars\n",
    "\n",
    "# vorkurve, mitte, nachkurve = formulars.gen_datasets_from(kupfer_data, 11, 11, time_column_index=0, temp_column_index=1, temp_err_column_index=2)\n",
    "# fig, ax = formulars.evaluate(vorkurve, mitte, nachkurve)\n",
    "# ax.axvline(x=355)\n",
    "# ax.set_title(\"Kupfer\")"
   ]
  },
  {
   "cell_type": "code",
   "execution_count": 10,
   "metadata": {},
   "outputs": [],
   "source": [
    "# vorkurve, mitte, nachkurve = formulars.gen_datasets_from(aluminium_data, 11, 19, time_column_index=0, temp_column_index=1, temp_err_column_index=2)\n",
    "# fig, ax = formulars.evaluate(vorkurve, mitte, nachkurve)\n",
    "# ax.axvline(x=360)\n",
    "# ax.set_title(\"Aluminium\")"
   ]
  },
  {
   "cell_type": "code",
   "execution_count": 11,
   "metadata": {},
   "outputs": [],
   "source": [
    "# vorkurve, mitte, nachkurve = formulars.gen_datasets_from(stahl_data, 11, 21, time_column_index=0, temp_column_index=1, temp_err_column_index=2)\n",
    "# fig, ax = formulars.evaluate(vorkurve, mitte, nachkurve)\n",
    "# ax.axvline(x=370)\n",
    "# ax.set_title(\"Stahl\")"
   ]
  },
  {
   "cell_type": "code",
   "execution_count": null,
   "metadata": {},
   "outputs": [],
   "source": []
  },
  {
   "cell_type": "code",
   "execution_count": null,
   "metadata": {},
   "outputs": [],
   "source": []
  }
 ],
 "metadata": {
  "kernelspec": {
   "display_name": "Python 3",
   "language": "python",
   "name": "python3"
  },
  "language_info": {
   "codemirror_mode": {
    "name": "ipython",
    "version": 3
   },
   "file_extension": ".py",
   "mimetype": "text/x-python",
   "name": "python",
   "nbconvert_exporter": "python",
   "pygments_lexer": "ipython3",
   "version": "3.11.9"
  }
 },
 "nbformat": 4,
 "nbformat_minor": 2
}
