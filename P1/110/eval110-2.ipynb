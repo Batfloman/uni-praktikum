{
 "cells": [
  {
   "cell_type": "code",
   "execution_count": 7,
   "metadata": {},
   "outputs": [],
   "source": [
    "import sys\n",
    "import os\n",
    "\n",
    "# Get the current directory of the notebook\n",
    "notebook_dir = os.path.abspath('')\n",
    "# Get the parent directory (project directory)\n",
    "project_dir = os.path.dirname(notebook_dir)\n",
    "# Get the parent of the parent directory (grandparent directory)\n",
    "grandparent_dir = os.path.dirname(project_dir)\n",
    "# Add the grandparent directory to the Python path\n",
    "sys.path.append(grandparent_dir)"
   ]
  },
  {
   "cell_type": "markdown",
   "metadata": {},
   "source": [
    "<hr>"
   ]
  },
  {
   "cell_type": "code",
   "execution_count": 8,
   "metadata": {},
   "outputs": [],
   "source": [
    "from util.structs import Measurement;"
   ]
  },
  {
   "cell_type": "code",
   "execution_count": 9,
   "metadata": {},
   "outputs": [],
   "source": [
    "mass_torvidur = Measurement(4.5e-3, 0.1e-3)\n",
    "mass_teflon = Measurement(7.1e-3, 0.1e-3)\n",
    "mass_aluminium = Measurement(9.4e-3, 0.1e-3)\n",
    "\n",
    "volumen = Measurement(1.141e-3, 0)\n",
    "radius = Measurement(5.95e-3, 0.05e-3)\n",
    "\n"
   ]
  },
  {
   "cell_type": "code",
   "execution_count": 10,
   "metadata": {},
   "outputs": [
    {
     "name": "stdout",
     "output_type": "stream",
     "text": [
      "[  0.365 ±   0.010]\n",
      "[  0.469 ±   0.010]\n",
      "[  0.510 ±   0.010]\n"
     ]
    }
   ],
   "source": [
    "import numpy as np;\n",
    "\n",
    "toridur = np.array([17.4, 18.0, 19.3])\n",
    "average = np.average(toridur) / 50;\n",
    "std = 0.5 / 50;\n",
    "period_torvidur = Measurement(average, std)\n",
    "\n",
    "teflon = np.array([23.18, 25.29, 21.95])\n",
    "average = np.average(teflon) / 50\n",
    "period_teflon = Measurement(average, std)\n",
    "\n",
    "aluminium = np.array([25.36, 26.04, 25.16])\n",
    "average = aluminium.mean() / 50\n",
    "period_aluminium = Measurement(average, std)\n",
    "\n",
    "print(period_torvidur)\n",
    "print(period_teflon)\n",
    "print(period_aluminium)"
   ]
  },
  {
   "cell_type": "code",
   "execution_count": 11,
   "metadata": {},
   "outputs": [
    {
     "name": "stdout",
     "output_type": "stream",
     "text": [
      "[102.197 ±   0.101]e+3\n",
      "[102.426 ±   0.101]e+3\n",
      "[102.629 ±   0.101]e+3\n"
     ]
    }
   ],
   "source": [
    "import formulars_2\n",
    "\n",
    "p_L = Measurement(1018e2, 1e2)\n",
    "\n",
    "p_0_torvirdur = formulars_2.calc_p_0(p_L, mass_torvidur, radius)\n",
    "p_0_teflon = formulars_2.calc_p_0(p_L, mass_teflon, radius)\n",
    "p_0_aluminium = formulars_2.calc_p_0(p_L, mass_aluminium, radius)\n",
    "\n",
    "print(p_0_torvirdur)\n",
    "print(p_0_teflon)\n",
    "print(p_0_aluminium)"
   ]
  },
  {
   "cell_type": "code",
   "execution_count": 12,
   "metadata": {},
   "outputs": [
    {
     "name": "stdout",
     "output_type": "stream",
     "text": [
      "[  1.206 ±   0.078]\n",
      "[  1.145 ±   0.062]\n",
      "[  1.280 ±   0.066]\n"
     ]
    }
   ],
   "source": [
    "import formulars_2\n",
    "\n",
    "kappa_torvidur = formulars_2.calc_kappa(period_torvidur, mass_torvidur, radius, volumen, p_0_torvirdur)\n",
    "kappa_teflon = formulars_2.calc_kappa(period_teflon, mass_teflon, radius, volumen, p_0_teflon)\n",
    "kappa_aluminium = formulars_2.calc_kappa(period_aluminium, mass_aluminium, radius, volumen, p_0_aluminium)\n",
    "\n",
    "print(kappa_torvidur)\n",
    "print(kappa_teflon)\n",
    "print(kappa_aluminium)"
   ]
  }
 ],
 "metadata": {
  "language_info": {
   "name": "python"
  }
 },
 "nbformat": 4,
 "nbformat_minor": 2
}
