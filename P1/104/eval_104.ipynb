{
 "cells": [
  {
   "cell_type": "code",
   "execution_count": 24,
   "metadata": {},
   "outputs": [],
   "source": [
    "import sys\n",
    "import os\n",
    "\n",
    "# Get the current directory of the notebook\n",
    "notebook_dir = os.path.abspath('')\n",
    "# Get the parent directory (project directory)\n",
    "project_dir = os.path.dirname(notebook_dir)\n",
    "# Get the parent of the parent directory (grandparent directory)\n",
    "grandparent_dir = os.path.dirname(project_dir)\n",
    "# Add the grandparent directory to the Python path\n",
    "sys.path.append(grandparent_dir)"
   ]
  },
  {
   "cell_type": "markdown",
   "metadata": {},
   "source": [
    "<hr>"
   ]
  },
  {
   "cell_type": "code",
   "execution_count": 25,
   "metadata": {},
   "outputs": [],
   "source": [
    "from util import excel_table\n",
    "from util.structs import Data, Dataset, Measurement;"
   ]
  },
  {
   "cell_type": "code",
   "execution_count": 26,
   "metadata": {},
   "outputs": [],
   "source": [
    "d_Scheibe = Measurement(299e-3, 1e-3)\n",
    "r_Scheibe = d_Scheibe/2\n",
    "m_Scheibe = Measurement(599e-3, 0)\n",
    "# b_Scheibe = Measurement(3e-3, 1e-3);\n",
    "d_Loch = Measurement(7e-3, 1e-3)\n",
    "r_Loch = d_Loch/2"
   ]
  },
  {
   "cell_type": "code",
   "execution_count": 27,
   "metadata": {},
   "outputs": [
    {
     "name": "stdout",
     "output_type": "stream",
     "text": [
      "T(10)  | ΔT(10) | a     | Δa    | i   | Δi \n",
      "-------+--------+-------+-------+-----+----\n",
      "12.751 | 0.5    | 0.03  | 0.001 | 1.0 | 0.0\n",
      "10.02  | 0.5    | 0.059 | 0.001 | 2.0 | 0.0\n",
      "9.551  | 0.5    | 0.072 | 0.001 | 3.0 | 0.0\n",
      "9.16   | 0.5    | 0.087 | 0.001 | 4.0 | 0.0\n",
      "9.1    | 0.5    | 0.101 | 0.001 | 5.0 | 0.0\n",
      "9.1    | 0.5    | 0.116 | 0.001 | 6.0 | 0.0\n",
      "9.24   | 0.5    | 0.13  | 0.001 | 7.0 | 0.0\n",
      "9.41   | 0.5    | 0.145 | 0.001 | 8.0 | 0.0\n",
      "\n"
     ]
    }
   ],
   "source": [
    "a_error = 1e-3\n",
    "period_10_error = .5;\n",
    "\n",
    "table = excel_table.read(\"./data/104.a\", has_header=True)\n",
    "data = Data()\n",
    "\n",
    "for row in table:\n",
    "    data.add(Dataset({\n",
    "        \"i\": Measurement(row[0], 0),\n",
    "        \"T(10)\": Measurement(row[1], period_10_error),\n",
    "        \"a\": Measurement(row[2] / 100, a_error).round(6)\n",
    "    }))\n",
    "\n",
    "print(data)"
   ]
  },
  {
   "cell_type": "code",
   "execution_count": 28,
   "metadata": {},
   "outputs": [
    {
     "name": "stdout",
     "output_type": "stream",
     "text": [
      "T    | ΔT   | T(10)  | ΔT(10) | a     | Δa    | i   | Δi \n",
      "-----+------+--------+--------+-------+-------+-----+----\n",
      "1.28 | 0.05 | 12.751 | 0.5    | 0.03  | 0.001 | 1.0 | 0.0\n",
      "1.0  | 0.05 | 10.02  | 0.5    | 0.059 | 0.001 | 2.0 | 0.0\n",
      "0.96 | 0.05 | 9.551  | 0.5    | 0.072 | 0.001 | 3.0 | 0.0\n",
      "0.92 | 0.05 | 9.16   | 0.5    | 0.087 | 0.001 | 4.0 | 0.0\n",
      "0.91 | 0.05 | 9.1    | 0.5    | 0.101 | 0.001 | 5.0 | 0.0\n",
      "0.91 | 0.05 | 9.1    | 0.5    | 0.116 | 0.001 | 6.0 | 0.0\n",
      "0.92 | 0.05 | 9.24   | 0.5    | 0.13  | 0.001 | 7.0 | 0.0\n",
      "0.94 | 0.05 | 9.41   | 0.5    | 0.145 | 0.001 | 8.0 | 0.0\n",
      "\n"
     ]
    }
   ],
   "source": [
    "for row in data:\n",
    "    row[\"T\"] = row[\"T(10)\"] / 10;\n",
    "\n",
    "    row[\"T\"] = row[\"T\"].round(2)\n",
    "\n",
    "print(data)"
   ]
  },
  {
   "cell_type": "code",
   "execution_count": 29,
   "metadata": {},
   "outputs": [
    {
     "name": "stdout",
     "output_type": "stream",
     "text": [
      "T    | ΔT   | T(10)  | ΔT(10) | a     | Δa    | aT^2  | ΔaT^2 | a^2     | Δa^2    | i   | Δi \n",
      "-----+------+--------+--------+-------+-------+-------+-------+---------+---------+-----+----\n",
      "1.28 | 0.05 | 12.751 | 0.5    | 0.03  | 0.001 | 0.049 | 0.005 | 0.0009  | 6e-05   | 1.0 | 0.0\n",
      "1.0  | 0.05 | 10.02  | 0.5    | 0.059 | 0.001 | 0.059 | 0.006 | 0.00348 | 0.00012 | 2.0 | 0.0\n",
      "0.96 | 0.05 | 9.551  | 0.5    | 0.072 | 0.001 | 0.066 | 0.007 | 0.00518 | 0.00015 | 3.0 | 0.0\n",
      "0.92 | 0.05 | 9.16   | 0.5    | 0.087 | 0.001 | 0.074 | 0.009 | 0.00757 | 0.00018 | 4.0 | 0.0\n",
      "0.91 | 0.05 | 9.1    | 0.5    | 0.101 | 0.001 | 0.084 | 0.01  | 0.0102  | 0.00021 | 5.0 | 0.0\n",
      "0.91 | 0.05 | 9.1    | 0.5    | 0.116 | 0.001 | 0.096 | 0.011 | 0.01346 | 0.00024 | 6.0 | 0.0\n",
      "0.92 | 0.05 | 9.24   | 0.5    | 0.13  | 0.001 | 0.11  | 0.012 | 0.0169  | 0.00027 | 7.0 | 0.0\n",
      "0.94 | 0.05 | 9.41   | 0.5    | 0.145 | 0.001 | 0.128 | 0.014 | 0.02102 | 0.00029 | 8.0 | 0.0\n",
      "\n"
     ]
    }
   ],
   "source": [
    "for row in data:\n",
    "    row[\"aT^2\"] = row[\"a\"] * row[\"T\"]**2\n",
    "    row[\"a^2\"] = row[\"a\"]**2;\n",
    "\n",
    "    row[\"aT^2\"] = row[\"aT^2\"].round(3)\n",
    "    row[\"a^2\"] = row[\"a^2\"].round(5)\n",
    "\n",
    "print(data)\n"
   ]
  },
  {
   "cell_type": "code",
   "execution_count": 30,
   "metadata": {},
   "outputs": [
    {
     "name": "stdout",
     "output_type": "stream",
     "text": [
      "m: (  3.831 ±   0.508) [⋅], n: ( 45.558 ±   4.072)e-3 [⋅]\n"
     ]
    },
    {
     "data": {
      "image/png": "[encoded data removed]",
      "text/plain": [
       "<Figure size 640x480 with 1 Axes>"
      ]
     },
     "metadata": {},
     "output_type": "display_data"
    }
   ],
   "source": [
    "from util.graph_fit import GraphFit\n",
    "\n",
    "_, params = GraphFit.Linear.on_data(data, \"a^2\", \"aT^2\")\n",
    "print(params)"
   ]
  },
  {
   "cell_type": "code",
   "execution_count": 31,
   "metadata": {},
   "outputs": [
    {
     "name": "stdout",
     "output_type": "stream",
     "text": [
      "3.831 0.509\n",
      "0.04556 0.00408\n",
      "( 10.305 ±   1.369) [⋅]\n",
      "(  7.124 ±   1.141)e-3 [⋅]\n"
     ]
    }
   ],
   "source": [
    "import numpy as np\n",
    "\n",
    "# m_Steig = 4 pi^2 / g <=> g = 4 pi^2 / m_Steig\n",
    "m_Steig = params[\"m\"].round(3)\n",
    "print(m_Steig.value, m_Steig.error)\n",
    "# n = 4 pi^2 Theta / m * g <=> Theta = n * m * g / 4 pi^2\n",
    "n = params[\"n\"].round(5)\n",
    "print(n.value, n.error)\n",
    "\n",
    "g = 4 * np.pi**2 / m_Steig;\n",
    "Theta = n * m_Scheibe * g / 4 / np.pi**2\n",
    "\n",
    "print(g)\n",
    "print(Theta)"
   ]
  },
  {
   "cell_type": "code",
   "execution_count": 32,
   "metadata": {},
   "outputs": [
    {
     "name": "stdout",
     "output_type": "stream",
     "text": [
      "(  6.694 ±   0.045)e-3 [⋅]\n"
     ]
    }
   ],
   "source": [
    "literatur_g = Measurement(9.818, 0)\n",
    "formel_Theta = m_Scheibe * r_Scheibe**2 / 2\n",
    "\n",
    "print(formel_Theta)"
   ]
  },
  {
   "cell_type": "code",
   "execution_count": 33,
   "metadata": {},
   "outputs": [
    {
     "name": "stdout",
     "output_type": "stream",
     "text": [
      "Abweichung g: 4.960177619406252%\n",
      "Abweichung I: 6.4190000356530845%\n"
     ]
    }
   ],
   "source": [
    "print(f\"Abweichung g: {(g / literatur_g).value * 100 - 100}%\")\n",
    "print(f\"Abweichung I: {(Theta / formel_Theta).value * 100 - 100}%\")"
   ]
  },
  {
   "cell_type": "code",
   "execution_count": 34,
   "metadata": {},
   "outputs": [
    {
     "name": "stdout",
     "output_type": "stream",
     "text": [
      "(  3.500 ±   0.500)e-3 [⋅] (149.500 ±   0.500)e-3 [⋅]\n",
      "0.0005480923032180849\n",
      "(329.935 ±  94.294)e-6 [⋅]\n",
      "Anteil Loch/Scheibe: 0.05508093525179857%\n"
     ]
    }
   ],
   "source": [
    "A_Scheibe_ohne_Loch = 2 * np.pi * r_Scheibe**2;\n",
    "A_Loch = 2 * np.pi * r_Loch**2;\n",
    "A_Scheibe = A_Scheibe_ohne_Loch - 9 * A_Loch;\n",
    "\n",
    "print(r_Loch, r_Scheibe)\n",
    "print((r_Loch**2 / r_Scheibe**2).value)\n",
    "m_Loch = m_Scheibe * A_Loch / A_Scheibe\n",
    "print(m_Loch)\n",
    "\n",
    "print(f\"Anteil Loch/Scheibe: {(m_Loch/m_Scheibe).value * 100}%\")\n"
   ]
  },
  {
   "cell_type": "code",
   "execution_count": 35,
   "metadata": {},
   "outputs": [
    {
     "name": "stdout",
     "output_type": "stream",
     "text": [
      "(  6.727 ±   0.046)e-3 [⋅]\n"
     ]
    }
   ],
   "source": [
    "I_Scheibe = 1/2 * (m_Scheibe + 9 * m_Loch) * r_Scheibe**2\n",
    "# I_Scheibe = 1/2 * m_Scheibe * r_Scheibe**2\n",
    "print(I_Scheibe)"
   ]
  },
  {
   "cell_type": "code",
   "execution_count": 36,
   "metadata": {},
   "outputs": [
    {
     "name": "stdout",
     "output_type": "stream",
     "text": [
      "a: (  0.000 ±   0.000) [⋅], I: (  0.000 ±   0.000) [⋅]\n",
      "a: ( 30.000 ±   1.000)e-3 [⋅], I: (300.000 ±  90.000)e-9 [⋅]\n",
      "a: ( 59.000 ±   1.000)e-3 [⋅], I: (  1.150 ±   0.340)e-6 [⋅]\n",
      "a: ( 72.000 ±   1.000)e-3 [⋅], I: (  1.710 ±   0.500)e-6 [⋅]\n",
      "a: ( 87.000 ±   1.000)e-3 [⋅], I: (  2.500 ±   0.720)e-6 [⋅]\n",
      "a: (101.000 ±   1.000)e-3 [⋅], I: (  3.370 ±   0.970)e-6 [⋅]\n",
      "a: (116.000 ±   1.000)e-3 [⋅], I: (  4.440 ±   1.280)e-6 [⋅]\n",
      "a: (130.000 ±   1.000)e-3 [⋅], I: (  5.580 ±   1.600)e-6 [⋅]\n",
      "a: (145.000 ±   1.000)e-3 [⋅], I: (  6.940 ±   1.990)e-6 [⋅]\n"
     ]
    }
   ],
   "source": [
    "\n",
    "\n",
    "for row in data:\n",
    "  row[\"I\"] = 1/2 * m_Loch * r_Loch**2 + m_Loch * row[\"a\"]**2\n",
    "  row[\"I\"] = row[\"I\"].round(8)\n",
    "\n",
    "print(f\"a: {Measurement(0, 0)}, I: {(1/2 * m_Loch * r_Loch**2).round(8)}\")\n",
    "for a, I in zip(data.column(\"a\"), data.column(\"I\")):\n",
    "  print(f\"a: {a}, I: {I}\")\n"
   ]
  },
  {
   "cell_type": "code",
   "execution_count": 37,
   "metadata": {},
   "outputs": [
    {
     "name": "stdout",
     "output_type": "stream",
     "text": [
      "0.0027369356340589627\n"
     ]
    }
   ],
   "source": [
    "I_Löcher = data.column(\"I\")\n",
    "I_Löcher_sum = (1/2 * m_Loch * r_Loch**2).error; # Nicht gemessene (Periodenzeit) Loch in der mitte\n",
    "for i in I_Löcher:\n",
    "  I_Löcher_sum = I_Löcher_sum + i.error;\n",
    "print(np.sqrt(I_Löcher_sum))"
   ]
  },
  {
   "cell_type": "code",
   "execution_count": 38,
   "metadata": {},
   "outputs": [
    {
     "name": "stdout",
     "output_type": "stream",
     "text": [
      "( 25.992 ±   3.161)e-6 [⋅]\n"
     ]
    }
   ],
   "source": [
    "I_Löcher = data.column(\"I\")\n",
    "I_Löcher_sum = 1/2 * m_Loch * r_Loch**2; # Nicht gemessene (Periodenzeit) Loch in der mitte\n",
    "for i in I_Löcher:\n",
    "  I_Löcher_sum = I_Löcher_sum + i;\n",
    "print(I_Löcher_sum)"
   ]
  },
  {
   "cell_type": "code",
   "execution_count": 39,
   "metadata": {},
   "outputs": [
    {
     "name": "stdout",
     "output_type": "stream",
     "text": [
      "(  6.701 ±   0.046)e-3 [⋅]\n"
     ]
    }
   ],
   "source": [
    "I_ges = I_Scheibe - I_Löcher_sum;\n",
    "print(I_ges)"
   ]
  },
  {
   "cell_type": "code",
   "execution_count": 40,
   "metadata": {},
   "outputs": [
    {
     "name": "stdout",
     "output_type": "stream",
     "text": [
      "0.9961362125077344\n"
     ]
    }
   ],
   "source": [
    "print((I_ges / I_Scheibe).value)"
   ]
  }
 ],
 "metadata": {
  "kernelspec": {
   "display_name": "Python 3",
   "language": "python",
   "name": "python3"
  },
  "language_info": {
   "codemirror_mode": {
    "name": "ipython",
    "version": 3
   },
   "file_extension": ".py",
   "mimetype": "text/x-python",
   "name": "python",
   "nbconvert_exporter": "python",
   "pygments_lexer": "ipython3",
   "version": "3.11.9"
  }
 },
 "nbformat": 4,
 "nbformat_minor": 2
}
