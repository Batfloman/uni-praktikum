{
 "cells": [
  {
   "cell_type": "code",
   "execution_count": 1,
   "metadata": {},
   "outputs": [],
   "source": [
    "import sys\n",
    "import os\n",
    "\n",
    "# Get the current directory of the notebook\n",
    "notebook_dir = os.path.abspath('')\n",
    "# Get the parent directory (project directory)\n",
    "project_dir = os.path.dirname(notebook_dir)\n",
    "# Get the parent of the parent directory (grandparent directory)\n",
    "grandparent_dir = os.path.dirname(project_dir)\n",
    "# Add the grandparent directory to the Python path\n",
    "sys.path.append(grandparent_dir)"
   ]
  },
  {
   "cell_type": "markdown",
   "metadata": {},
   "source": [
    "<hr>"
   ]
  },
  {
   "cell_type": "code",
   "execution_count": 2,
   "metadata": {},
   "outputs": [],
   "source": [
    "from util.structs import Measurement\n",
    "\n",
    "length = Measurement(400e-3, 0.5e-3)\n",
    "\n",
    "height_kupfer = Measurement(2e-3, 0.05e-3)\n",
    "height_stahl = Measurement(2e-3, 0.05e-3)\n",
    "height_aluminium = Measurement(2.2e-3, 0.05e-3)\n",
    "\n",
    "width_kupfer = Measurement(10.25e-3, 0.05e-3)\n",
    "width_stahl = Measurement(10e-3, 0.05e-3)\n",
    "width_aluminium = Measurement(10e-3, 0.05e-3)\n",
    "\n",
    "slope_kupfer = Measurement(1.5233e-3, 0.039e-3)\n",
    "slope_stahl = Measurement(0.9736e-3, 0.020e-3)\n",
    "slope_aluminium = Measurement(2.7770e-3, 0.039e-3)"
   ]
  },
  {
   "cell_type": "code",
   "execution_count": 3,
   "metadata": {},
   "outputs": [
    {
     "name": "stdout",
     "output_type": "stream",
     "text": [
      "(128.092 ±  10.182)e+9\n",
      "(205.423 ±  16.026)e+9\n",
      "( 54.110 ±   3.782)e+9\n"
     ]
    }
   ],
   "source": [
    "import formulars\n",
    "\n",
    "print(formulars.calc_E(length, height_kupfer, width_kupfer, slope_kupfer))\n",
    "print(formulars.calc_E(length, height_stahl, width_stahl, slope_stahl))\n",
    "print(formulars.calc_E(length, height_aluminium, width_aluminium, slope_aluminium))"
   ]
  },
  {
   "cell_type": "code",
   "execution_count": 4,
   "metadata": {},
   "outputs": [],
   "source": [
    "slope = Measurement(972.95, 35.21)\n",
    "mass_weight = Measurement(100e-3, 1e-3)"
   ]
  },
  {
   "cell_type": "code",
   "execution_count": 5,
   "metadata": {},
   "outputs": [
    {
     "name": "stdout",
     "output_type": "stream",
     "text": [
      "(  8.115 ±   0.305)e-3\n"
     ]
    }
   ],
   "source": [
    "print(formulars.calc_D(slope, mass_weight))"
   ]
  },
  {
   "cell_type": "code",
   "execution_count": null,
   "metadata": {},
   "outputs": [],
   "source": []
  }
 ],
 "metadata": {
  "kernelspec": {
   "display_name": "Python 3",
   "language": "python",
   "name": "python3"
  },
  "language_info": {
   "codemirror_mode": {
    "name": "ipython",
    "version": 3
   },
   "file_extension": ".py",
   "mimetype": "text/x-python",
   "name": "python",
   "nbconvert_exporter": "python",
   "pygments_lexer": "ipython3",
   "version": "3.11.9"
  }
 },
 "nbformat": 4,
 "nbformat_minor": 2
}
