{
 "cells": [
  {
   "cell_type": "code",
   "execution_count": 1,
   "metadata": {},
   "outputs": [
    {
     "name": "stdout",
     "output_type": "stream",
     "text": [
      "Praktikum\n",
      "c:\\Users\\flhir\\OneDrive\\Dokumente\\Obsidian\\uni-obsidian\\Praktikum\n"
     ]
    }
   ],
   "source": [
    "import os\n",
    "import sys\n",
    "\n",
    "_dir = os.path.abspath('')\n",
    "_dir = os.path.dirname(_dir)\n",
    "_dir = os.path.dirname(_dir)\n",
    "_dir = os.path.dirname(_dir)\n",
    "print(os.path.basename(_dir))\n",
    "print(_dir)\n",
    "sys.path.append(_dir)"
   ]
  },
  {
   "cell_type": "markdown",
   "metadata": {},
   "source": [
    "<hr />"
   ]
  },
  {
   "cell_type": "code",
   "execution_count": 2,
   "metadata": {},
   "outputs": [
    {
     "name": "stdout",
     "output_type": "stream",
     "text": [
      "[[None 'Länge' nan 'Breite' nan 'Höhe' nan]\n",
      " ['Kupfer' 400 0.5 10.25 0.05 2 0.05]\n",
      " ['Stahl' 400 0.5 10 0.05 2 0.05]\n",
      " ['Aluminium' 400 0.5 10 0.05 2.2 0.05]]\n"
     ]
    }
   ],
   "source": [
    "from util import excel_table\n",
    "from util.structs import DataCluster, Dataset, Measurement;\n",
    "\n",
    "stab_table = excel_table.read(\"../data/108-Stäbe.xlsx\");\n",
    "print(stab_table) # print header\n",
    "stab_table_data = stab_table[1:]"
   ]
  },
  {
   "cell_type": "code",
   "execution_count": 3,
   "metadata": {},
   "outputs": [
    {
     "name": "stdout",
     "output_type": "stream",
     "text": [
      "h       | l           | name      | w          \n",
      "--------+-------------+-----------+------------\n",
      "2.00(5) | 4.000(5)e+2 | Kupfer    | 1.025(5)e+1\n",
      "2.00(5) | 4.000(5)e+2 | Stahl     | 1.000(5)e+1\n",
      "2.20(5) | 4.000(5)e+2 | Aluminium | 1.000(5)e+1\n",
      "\n",
      "Successfully exported table 108a-stab-data.tex to c:\\Users\\flhir\\OneDrive\\Dokumente\\Obsidian\\uni-obsidian\\Praktikum\\P1\\108\\output\\108a-stab-data.tex\n"
     ]
    }
   ],
   "source": [
    "length_index = 1\n",
    "error_length_index = 2\n",
    "\n",
    "width_index = 3\n",
    "error_width_index = 4\n",
    "\n",
    "height_index = 5\n",
    "error_height_index = 6\n",
    "\n",
    "stab_data = DataCluster([\n",
    "    Dataset({\n",
    "        \"name\": row[0],\n",
    "        \"l\": Measurement(row[length_index], row[error_length_index], \"mm\"),\n",
    "        \"w\": Measurement(row[width_index], row[error_width_index], \"mm\"),\n",
    "        \"h\": Measurement(row[height_index], row[error_height_index], \"mm\"),\n",
    "    })\n",
    "    for row in stab_table_data\n",
    "])\n",
    "print(stab_data)\n",
    "\n",
    "stab_data.save.as_latex(\"../output/108a-stab-data\");"
   ]
  },
  {
   "cell_type": "code",
   "execution_count": 4,
   "metadata": {},
   "outputs": [
    {
     "name": "stdout",
     "output_type": "stream",
     "text": [
      "[['Kupfer' None 'Stahl' None 'Aluminium' None]\n",
      " ['Last [g]' 'Auslenkung [cm]' 'Last [g]' 'Auslenkung [cm]' 'Last [g]'\n",
      "  'Auslenkung [cm]']\n",
      " [0 27.4 0 29.8 0 29.4]\n",
      " [50 26.6 50 29.4 50 28.1]\n",
      " [100 26 100 29 100 26.6]\n",
      " [150 25.2 200 28 150 25.2]\n",
      " [200 24.4 300 27 200 24]\n",
      " [250 23.7 400 26.1 250 22.6]\n",
      " [300 22.9 500 25.1 300 21.3]\n",
      " [350 22.2 600 24.2 350 19.8]]\n"
     ]
    }
   ],
   "source": [
    "table = excel_table.read(\"../data/108a\");\n",
    "print(table)"
   ]
  },
  {
   "cell_type": "code",
   "execution_count": null,
   "metadata": {},
   "outputs": [],
   "source": []
  }
 ],
 "metadata": {
  "kernelspec": {
   "display_name": "Python 3",
   "language": "python",
   "name": "python3"
  },
  "language_info": {
   "codemirror_mode": {
    "name": "ipython",
    "version": 3
   },
   "file_extension": ".py",
   "mimetype": "text/x-python",
   "name": "python",
   "nbconvert_exporter": "python",
   "pygments_lexer": "ipython3",
   "version": "3.13.1"
  }
 },
 "nbformat": 4,
 "nbformat_minor": 2
}
