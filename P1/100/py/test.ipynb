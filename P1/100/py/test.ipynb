{
 "cells": [
  {
   "cell_type": "code",
   "execution_count": 9,
   "metadata": {},
   "outputs": [
    {
     "name": "stdout",
     "output_type": "stream",
     "text": [
      "c:\\Users\\flhir\\OneDrive\\Dokumente\\Obsidian\\uni-obsidian\\Praktikum\n"
     ]
    }
   ],
   "source": [
    "import sys\n",
    "import os\n",
    "\n",
    "notebook_dir = os.path.abspath('')\n",
    "_dir = os.path.dirname(notebook_dir)\n",
    "_dir = os.path.dirname(_dir)\n",
    "_dir = os.path.dirname(_dir)\n",
    "print(_dir)\n",
    "sys.path.append(_dir)"
   ]
  },
  {
   "cell_type": "markdown",
   "metadata": {},
   "source": [
    "<hr />"
   ]
  },
  {
   "cell_type": "code",
   "execution_count": 10,
   "metadata": {},
   "outputs": [
    {
     "name": "stdout",
     "output_type": "stream",
     "text": [
      "['x1 [cm]' 'x2 [cm]']\n"
     ]
    }
   ],
   "source": [
    "from util import excel_table\n",
    "\n",
    "table = excel_table.read(\"../data/100b\")\n",
    "print(table[0]) # header\n",
    "table = table[1:]"
   ]
  },
  {
   "cell_type": "code",
   "execution_count": 11,
   "metadata": {},
   "outputs": [
    {
     "name": "stdout",
     "output_type": "stream",
     "text": [
      "x1         | x2        \n",
      "-----------+-----------\n",
      "2.61(1)e+1 | 8.26(1)e+1\n",
      "2.60(1)e+1 | 8.26(1)e+1\n",
      "2.61(1)e+1 | 8.23(1)e+1\n",
      "2.62(1)e+1 | 8.25(1)e+1\n",
      "2.62(1)e+1 | 8.23(1)e+1\n",
      "2.60(1)e+1 | 8.26(1)e+1\n",
      "2.61(1)e+1 | 8.28(1)e+1\n",
      "2.62(1)e+1 | 8.27(1)e+1\n",
      "2.63(1)e+1 | 8.25(1)e+1\n",
      "2.60(1)e+1 | 8.27(1)e+1\n",
      "\n"
     ]
    }
   ],
   "source": [
    "from util.structs import DataCluster, Dataset, Measurement;\n",
    "\n",
    "x1_index = 0\n",
    "x2_index = 1\n",
    "uncertainty = 0.1\n",
    "\n",
    "data = DataCluster([\n",
    "    Dataset({\n",
    "        \"x1\": Measurement(row[x1_index], uncertainty, \"cm\"),\n",
    "        \"x2\": Measurement(row[x2_index], uncertainty, \"cm\"),\n",
    "    })\n",
    "    for row in table\n",
    "])\n",
    "print(data)"
   ]
  },
  {
   "cell_type": "code",
   "execution_count": 14,
   "metadata": {},
   "outputs": [
    {
     "name": "stdout",
     "output_type": "stream",
     "text": [
      "2.612(4)e+1\n",
      "8.256(4)e+1\n"
     ]
    }
   ],
   "source": [
    "from util import mymath;\n",
    "\n",
    "x1 = data.column(\"x1\")\n",
    "x2 = data.column(\"x2\")\n",
    "\n",
    "print(mymath.error_weighted_mean(x1))\n",
    "print(mymath.error_weighted_mean(x2))"
   ]
  },
  {
   "cell_type": "code",
   "execution_count": 13,
   "metadata": {},
   "outputs": [
    {
     "name": "stdout",
     "output_type": "stream",
     "text": [
      "Exported equation to eq.tex at c:\\Users\\flhir\\OneDrive\\Dokumente\\Obsidian\\uni-obsidian\\Praktikum\\P1\\100\\equations\\eq.tex\n",
      "c*(a + b)**c/(a + b)\n",
      "Exported equation to eq_2.tex at c:\\Users\\flhir\\OneDrive\\Dokumente\\Obsidian\\uni-obsidian\\Praktikum\\P1\\100\\equations\\eq_2.tex\n",
      "sqrt(\\sigma_{a}**2*c**2*(a + b)**(2*c)/(a + b)**2 + \\sigma_{c}**2*(a + b)**(2*c)*log(a + b)**2)\n"
     ]
    }
   ],
   "source": [
    "from util import equations;\n",
    "import numpy as np;\n",
    "\n",
    "# Define a generic Python function\n",
    "def calc(a, b, c):\n",
    "    return (a + b)**c\n",
    "\n",
    "x = equations.export_as_latex(calc, \"../equations/eq\")\n",
    "print(equations.get_derivative(calc, \"a\"))\n",
    "y = equations.gaussian_error_propagation(calc, exclude={\"b\"})\n",
    "equations.export_as_latex(y, \"../equations/eq_2\")\n",
    "print(y)"
   ]
  },
  {
   "cell_type": "code",
   "execution_count": null,
   "metadata": {},
   "outputs": [],
   "source": []
  }
 ],
 "metadata": {
  "kernelspec": {
   "display_name": "Python 3",
   "language": "python",
   "name": "python3"
  },
  "language_info": {
   "codemirror_mode": {
    "name": "ipython",
    "version": 3
   },
   "file_extension": ".py",
   "mimetype": "text/x-python",
   "name": "python",
   "nbconvert_exporter": "python",
   "pygments_lexer": "ipython3",
   "version": "3.13.1"
  }
 },
 "nbformat": 4,
 "nbformat_minor": 2
}
