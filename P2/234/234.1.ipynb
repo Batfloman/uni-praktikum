{
 "cells": [
  {
   "cell_type": "code",
   "execution_count": 32,
   "metadata": {},
   "outputs": [],
   "source": [
    "import sys\n",
    "import os\n",
    "\n",
    "# Get the current directory of the notebook\n",
    "notebook_dir = os.path.abspath('')\n",
    "_dir = os.path.dirname(notebook_dir)\n",
    "_dir = os.path.dirname(_dir)\n",
    "_dir = os.path.dirname(_dir)\n",
    "sys.path.append(_dir)"
   ]
  },
  {
   "cell_type": "markdown",
   "metadata": {},
   "source": [
    "<hr />"
   ]
  },
  {
   "cell_type": "code",
   "execution_count": 33,
   "metadata": {},
   "outputs": [],
   "source": [
    "from util.structs import Measurement\n",
    "from util import mymath\n",
    "import numpy as np"
   ]
  },
  {
   "cell_type": "markdown",
   "metadata": {},
   "source": [
    "### 234.a"
   ]
  },
  {
   "cell_type": "code",
   "execution_count": 34,
   "metadata": {},
   "outputs": [],
   "source": [
    "def calc_C_x(Rx, Ry, C1):\n",
    "    return Rx / Ry * C1;"
   ]
  },
  {
   "cell_type": "code",
   "execution_count": 35,
   "metadata": {},
   "outputs": [],
   "source": [
    "# Messwerte\n",
    "C_1 = np.array([\n",
    "    Measurement(220, \"1%\") * 1e-9, # F\n",
    "    Measurement(96.6, \"1%\") * 1e-9, # F\n",
    "])\n",
    "R_max = 200 # ohm\n",
    "skt_max = 1000\n",
    "x = np.array([\n",
    "    Measurement(14, 10), #skt\n",
    "    Measurement(26, 1),\n",
    "])\n",
    "y = skt_max - x;"
   ]
  },
  {
   "cell_type": "code",
   "execution_count": 36,
   "metadata": {},
   "outputs": [
    {
     "name": "stdout",
     "output_type": "stream",
     "text": [
      "[Measurement(value=2.8000000000000003, error=2.0)\n",
      " Measurement(value=5.2, error=0.2)]\n",
      "[Measurement(value=197.2, error=2.0)\n",
      " Measurement(value=194.79999999999998, error=0.2)]\n"
     ]
    }
   ],
   "source": [
    "# Umrechnen \n",
    "R_x = mymath.get_value_from_skt(x, skt_max, R_max)\n",
    "R_y = mymath.get_value_from_skt(y, skt_max, R_max)\n",
    "\n",
    "print(R_x)\n",
    "print(R_y)"
   ]
  },
  {
   "cell_type": "code",
   "execution_count": 37,
   "metadata": {},
   "outputs": [
    {
     "name": "stdout",
     "output_type": "stream",
     "text": [
      "(  3.1 ± 2.2)e-9\n",
      "( 25.8 ± 1.0)e-10\n"
     ]
    }
   ],
   "source": [
    "C_x = calc_C_x(R_x, R_y, C_1)\n",
    "\n",
    "for res in C_x:\n",
    "    print(res)"
   ]
  },
  {
   "cell_type": "markdown",
   "metadata": {},
   "source": [
    "### 234.b"
   ]
  },
  {
   "cell_type": "code",
   "execution_count": 38,
   "metadata": {},
   "outputs": [],
   "source": [
    "def calc_L_x(Rx, Ry, L1):\n",
    "    return L1 * Ry / Rx;"
   ]
  },
  {
   "cell_type": "code",
   "execution_count": 39,
   "metadata": {},
   "outputs": [],
   "source": [
    "L_1 = Measurement(36, \"1%\") * 1e-3;\n",
    "# 1. Poty\n",
    "skt_max = 1000\n",
    "x = Measurement(830, 10)\n",
    "y = skt_max - x"
   ]
  },
  {
   "cell_type": "code",
   "execution_count": 40,
   "metadata": {},
   "outputs": [
    {
     "name": "stdout",
     "output_type": "stream",
     "text": [
      "(166.0 ± 2.0)\n",
      "( 34.0 ± 2.0)\n"
     ]
    }
   ],
   "source": [
    "# Umrechnen \n",
    "R_x = mymath.get_value_from_skt(x, skt_max, R_max)\n",
    "R_y = mymath.get_value_from_skt(y, skt_max, R_max)\n",
    "\n",
    "print(R_x)\n",
    "print(R_y)"
   ]
  },
  {
   "cell_type": "code",
   "execution_count": 41,
   "metadata": {},
   "outputs": [
    {
     "name": "stdout",
     "output_type": "stream",
     "text": [
      "L = ( 73.7 ± 4.5)e-4\n"
     ]
    }
   ],
   "source": [
    "print(f\"L = {calc_L_x(R_x, R_y, L_1)}\")"
   ]
  },
  {
   "cell_type": "markdown",
   "metadata": {},
   "source": [
    "### 234.c"
   ]
  },
  {
   "cell_type": "code",
   "execution_count": 42,
   "metadata": {},
   "outputs": [],
   "source": [
    "def calc_Z(U, I):\n",
    "    return U / I;\n",
    "\n",
    "def calc_L(omega, Z, Rx):\n",
    "    return 1/omega * (Z**2 - Rx**2)**0.5\n",
    "\n",
    "def calc_phi(Z, Rx):\n",
    "    return np.arccos(Rx / Z)"
   ]
  },
  {
   "cell_type": "code",
   "execution_count": 43,
   "metadata": {},
   "outputs": [
    {
     "name": "stdout",
     "output_type": "stream",
     "text": [
      "(188.5 ± 1.9)e+1\n"
     ]
    }
   ],
   "source": [
    "f = Measurement(300, \"1%\")\n",
    "omega = 2 * np.pi * f;\n",
    "print(omega)"
   ]
  },
  {
   "cell_type": "code",
   "execution_count": 44,
   "metadata": {},
   "outputs": [],
   "source": [
    "U_RL = Measurement(0.176, \"1%\")\n",
    "I = Measurement(0.191, \"1%\")\n",
    "R_x = Measurement(0.4, \"1%\")"
   ]
  },
  {
   "cell_type": "code",
   "execution_count": 45,
   "metadata": {},
   "outputs": [
    {
     "name": "stdout",
     "output_type": "stream",
     "text": [
      "( 92.1 ± 1.3)e-2\n"
     ]
    }
   ],
   "source": [
    "Z = calc_Z(U_RL, I)\n",
    "print(Z)"
   ]
  },
  {
   "cell_type": "code",
   "execution_count": 46,
   "metadata": {},
   "outputs": [
    {
     "name": "stdout",
     "output_type": "stream",
     "text": [
      "L = (440.4 ± 8.9)e-6\n",
      "phi = (642.7 ± 4.8)e-1\n"
     ]
    }
   ],
   "source": [
    "L = calc_L(omega, Z, R_x)\n",
    "phi = calc_phi(Z, R_x)\n",
    "print(f\"L = {L}\")\n",
    "print(f\"phi = {np.rad2deg(phi)}\")"
   ]
  },
  {
   "cell_type": "code",
   "execution_count": null,
   "metadata": {},
   "outputs": [],
   "source": []
  }
 ],
 "metadata": {
  "kernelspec": {
   "display_name": "Python 3",
   "language": "python",
   "name": "python3"
  },
  "language_info": {
   "codemirror_mode": {
    "name": "ipython",
    "version": 3
   },
   "file_extension": ".py",
   "mimetype": "text/x-python",
   "name": "python",
   "nbconvert_exporter": "python",
   "pygments_lexer": "ipython3",
   "version": "3.11.9"
  }
 },
 "nbformat": 4,
 "nbformat_minor": 2
}
