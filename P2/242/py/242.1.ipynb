{
 "cells": [
  {
   "cell_type": "code",
   "execution_count": 1,
   "metadata": {},
   "outputs": [
    {
     "name": "stdout",
     "output_type": "stream",
     "text": [
      "c:\\Users\\flhir\\OneDrive\\Dokumente\\Obsidian\\uni-obsidian\\Praktikum\n"
     ]
    }
   ],
   "source": [
    "import sys\n",
    "import os\n",
    "\n",
    "# Get the current directory of the notebook\n",
    "notebook_dir = os.path.abspath('')\n",
    "_dir = os.path.dirname(notebook_dir)\n",
    "_dir = os.path.dirname(_dir)\n",
    "_dir = os.path.dirname(_dir)\n",
    "print(_dir)\n",
    "sys.path.append(_dir)"
   ]
  },
  {
   "cell_type": "markdown",
   "metadata": {},
   "source": [
    "<hr />"
   ]
  },
  {
   "cell_type": "code",
   "execution_count": 2,
   "metadata": {},
   "outputs": [],
   "source": [
    "from util import equations\n",
    "from util.structs import DataCluster, Dataset, Measurement;\n",
    "from util import excel_table\n",
    "\n",
    "import numpy as np"
   ]
  },
  {
   "cell_type": "markdown",
   "metadata": {},
   "source": [
    "## 242b"
   ]
  },
  {
   "cell_type": "markdown",
   "metadata": {},
   "source": [
    "### Read data"
   ]
  },
  {
   "cell_type": "code",
   "execution_count": 3,
   "metadata": {},
   "outputs": [
    {
     "name": "stdout",
     "output_type": "stream",
     "text": [
      "Headerrow: ['U [V]' 'I_1 [A]' 'I_2 [A]' 'd [cm]'] \n",
      " ================================================================================\n",
      "I_1 [A]    | I_2 [A]    | U [V]      | d [cm]    | d [m]    \n",
      "-----------+------------+------------+-----------+----------\n",
      "6.90(7)e-1 | 6.30(7)e-1 | 9.00(9)e+1 | 1.2(1)e+1 | 1.2(1)e-1\n",
      "7.40(8)e-1 | 7.00(7)e-1 | 1.00(1)e+2 | 1.2(1)e+1 | 1.2(1)e-1\n",
      "1.08(2)    | 1.00(1)    | 1.20(2)e+2 | 9(1)      | 9(1)e-2  \n",
      "1.16(2)    | 1.08(2)    | 1.29(2)e+2 | 8(1)      | 8(1)e-2  \n",
      "1.17(2)    | 1.09(2)    | 1.42(2)e+2 | 9(1)      | 9(1)e-2  \n",
      "1.24(2)    | 1.15(2)    | 1.50(2)e+2 | 9(1)      | 9(1)e-2  \n",
      "1.49(2)    | 1.40(2)    | 1.70(2)e+2 | 8(1)      | 8(1)e-2  \n",
      "1.49(2)    | 1.39(2)    | 1.82(2)e+2 | 7(1)      | 7(1)e-2  \n",
      "1.38(2)    | 1.31(2)    | 2.09(3)e+2 | 9(1)      | 9(1)e-2  \n",
      "1.38(2)    | 1.35(2)    | 2.31(3)e+2 | 9(1)      | 9(1)e-2  \n",
      "\n"
     ]
    }
   ],
   "source": [
    "# Read table data\n",
    "table = excel_table.read(\"../data/242a.xlsx\");\n",
    "print(\"Headerrow:\", table[0], \"\\n\", \"=\"*80) # print header\n",
    "table = table[1:]\n",
    "data = DataCluster();\n",
    "\n",
    "for row in table:\n",
    "    data.add(Dataset({\n",
    "        \"U [V]\": Measurement(row[0], 0.01 * row[0]),\n",
    "        \"I_1 [A]\": Measurement(row[1], 0.01 * row[1]),\n",
    "        \"I_2 [A]\": Measurement(row[2], 0.01 * row[2]),\n",
    "        \"d [cm]\": Measurement(row[3] , 1),\n",
    "    }))\n",
    "\n",
    "for d in data:\n",
    "    d[\"d [m]\"] = d[\"d [cm]\"] * 1e-2;\n",
    "\n",
    "print(data)\n",
    "data.save.as_latex(\"../output/latex/table1.tex\");"
   ]
  },
  {
   "cell_type": "markdown",
   "metadata": {},
   "source": [
    "### 242b.1"
   ]
  },
  {
   "cell_type": "markdown",
   "metadata": {},
   "source": [
    "Erweitern Sie Gleichung 242.1 um einen Zusatzterm für eine störende magnetische Flussdichte 𝐵E. (𝐵S sei das durch die Spulen erzeugte Feld, 𝐵E die Komponente des Erdmagnetfeldes in Richtung von 𝐵S)."
   ]
  },
  {
   "cell_type": "markdown",
   "metadata": {},
   "source": [
    "### 242b.2"
   ]
  },
  {
   "cell_type": "markdown",
   "metadata": {},
   "source": [
    "berechnen Sie $B_S$ aus den Spulendaten und dem Strom $I$."
   ]
  },
  {
   "cell_type": "markdown",
   "metadata": {},
   "source": [
    "Für das magnetsiche Feld gilt Gleichung $(242.5)$\n",
    "$$\n",
    "B = 0.716 \\cdot \\mu_0 \\frac{n \\cdot I}{R} \n",
    "\\tag{242.5}\n",
    "$$"
   ]
  },
  {
   "cell_type": "code",
   "execution_count": 4,
   "metadata": {},
   "outputs": [
    {
     "data": {
      "text/markdown": [
       "$$ \\begin{equation*}\n",
       "B = 0.716 \\cdot \\mu_0 \\frac{n \\cdot I}{R} \n",
       "\\tag{242.5} \n",
       "\\end{equation*} $$"
      ],
      "text/plain": [
       "<IPython.core.display.Markdown object>"
      ]
     },
     "metadata": {},
     "output_type": "display_data"
    }
   ],
   "source": [
    "equations.display(\"../segments/script_equations/242.5.tex\");"
   ]
  },
  {
   "cell_type": "code",
   "execution_count": 12,
   "metadata": {},
   "outputs": [
    {
     "name": "stdout",
     "output_type": "stream",
     "text": [
      "Exported equation to 242.5.tex at c:\\Users\\flhir\\OneDrive\\Dokumente\\Obsidian\\uni-obsidian\\Praktikum\\P2\\242\\output\\equations\\242.5.tex\n",
      "Exported equation to 242.5_gauss.tex at c:\\Users\\flhir\\OneDrive\\Dokumente\\Obsidian\\uni-obsidian\\Praktikum\\P2\\242\\output\\equations\\242.5_gauss.tex\n"
     ]
    },
    {
     "data": {
      "text/markdown": [
       "$$ 0.716 \\sqrt{\\frac{I^{2} \\sigma_{mu_0}^{2} n^{2}}{R^{2}} + \\frac{I^{2} \\sigma_{n}^{2} \\mu_{0}^{2}}{R^{2}} + \\frac{I^{2} \\sigma_{R}^{2} \\mu_{0}^{2} n^{2}}{R^{4}} + \\frac{\\sigma_{I}^{2} \\mu_{0}^{2} n^{2}}{R^{2}}} $$"
      ],
      "text/plain": [
       "<IPython.core.display.Markdown object>"
      ]
     },
     "metadata": {},
     "output_type": "display_data"
    }
   ],
   "source": [
    "# Angegebene Werte\n",
    "mu_0 = 4 * np.pi * 1e-7 \n",
    "n = 130\n",
    "R = 0.15\n",
    "\n",
    "def calc_B(I, mu_0 = mu_0, n = n, R = R):\n",
    "    return 0.716 * mu_0 * n * I / R;\n",
    "\n",
    "B_error = equations.gaussian_error_propagation(calc_B)\n",
    "\n",
    "equations.export_as_latex(calc_B, \"../output/equations/242.5\")\n",
    "equations.export_as_latex(B_error, \"../output/equations/242.5_gauss\")\n",
    "\n",
    "equations.display(B_error)"
   ]
  },
  {
   "cell_type": "markdown",
   "metadata": {},
   "source": [
    "Für den benötigten Strom ohne externes Magnetfeld gilt:\n",
    "\n",
    "$$\n",
    "I = \\frac{1}{2} (I_2 + I_1)\n",
    "$$"
   ]
  },
  {
   "cell_type": "code",
   "execution_count": 6,
   "metadata": {},
   "outputs": [],
   "source": [
    "def calc_I(I1, I2):\n",
    "    return 0.5 * (I1 + I2)"
   ]
  },
  {
   "cell_type": "code",
   "execution_count": 7,
   "metadata": {},
   "outputs": [
    {
     "name": "stdout",
     "output_type": "stream",
     "text": [
      "I [A]      | I_1 [A]    | I_2 [A]    | U [V]      | d [cm]    | d [m]    \n",
      "-----------+------------+------------+------------+-----------+----------\n",
      "6.60(5)e-1 | 6.90(7)e-1 | 6.30(7)e-1 | 9.00(9)e+1 | 1.2(1)e+1 | 1.2(1)e-1\n",
      "7.20(6)e-1 | 7.40(8)e-1 | 7.00(7)e-1 | 1.00(1)e+2 | 1.2(1)e+1 | 1.2(1)e-1\n",
      "1.040(8)   | 1.08(2)    | 1.00(1)    | 1.20(2)e+2 | 9(1)      | 9(1)e-2  \n",
      "1.120(8)   | 1.16(2)    | 1.08(2)    | 1.29(2)e+2 | 8(1)      | 8(1)e-2  \n",
      "1.130(8)   | 1.17(2)    | 1.09(2)    | 1.42(2)e+2 | 9(1)      | 9(1)e-2  \n",
      "1.195(9)   | 1.24(2)    | 1.15(2)    | 1.50(2)e+2 | 9(1)      | 9(1)e-2  \n",
      "1.44(2)    | 1.49(2)    | 1.40(2)    | 1.70(2)e+2 | 8(1)      | 8(1)e-2  \n",
      "1.44(2)    | 1.49(2)    | 1.39(2)    | 1.82(2)e+2 | 7(1)      | 7(1)e-2  \n",
      "1.34(1)    | 1.38(2)    | 1.31(2)    | 2.09(3)e+2 | 9(1)      | 9(1)e-2  \n",
      "1.36(1)    | 1.38(2)    | 1.35(2)    | 2.31(3)e+2 | 9(1)      | 9(1)e-2  \n",
      "\n"
     ]
    }
   ],
   "source": [
    "for d in data:\n",
    "    d[\"I [A]\"] = calc_I(d[\"I_1 [A]\"], d[\"I_2 [A]\"])\n",
    "\n",
    "data.round_index(\"I [A]\")\n",
    "print(data)"
   ]
  },
  {
   "cell_type": "code",
   "execution_count": 8,
   "metadata": {},
   "outputs": [
    {
     "name": "stdout",
     "output_type": "stream",
     "text": [
      "B [T]       | I [A]      | I_1 [A]    | I_2 [A]    | U [V]      | d [cm]    | d [m]    \n",
      "------------+------------+------------+------------+------------+-----------+----------\n",
      "5.15(4)e-4  | 6.60(5)e-1 | 6.90(7)e-1 | 6.30(7)e-1 | 9.00(9)e+1 | 1.2(1)e+1 | 1.2(1)e-1\n",
      "5.61(6)e-4  | 7.20(6)e-1 | 7.40(8)e-1 | 7.00(7)e-1 | 1.00(1)e+2 | 1.2(1)e+1 | 1.2(1)e-1\n",
      "8.11(7)e-4  | 1.040(8)   | 1.08(2)    | 1.00(1)    | 1.20(2)e+2 | 9(1)      | 9(1)e-2  \n",
      "8.73(7)e-4  | 1.120(8)   | 1.16(2)    | 1.08(2)    | 1.29(2)e+2 | 8(1)      | 8(1)e-2  \n",
      "8.81(7)e-4  | 1.130(8)   | 1.17(2)    | 1.09(2)    | 1.42(2)e+2 | 9(1)      | 9(1)e-2  \n",
      "9.32(8)e-4  | 1.195(9)   | 1.24(2)    | 1.15(2)    | 1.50(2)e+2 | 9(1)      | 9(1)e-2  \n",
      "1.12(2)e-3  | 1.44(2)    | 1.49(2)    | 1.40(2)    | 1.70(2)e+2 | 8(1)      | 8(1)e-2  \n",
      "1.12(2)e-3  | 1.44(2)    | 1.49(2)    | 1.39(2)    | 1.82(2)e+2 | 7(1)      | 7(1)e-2  \n",
      "1.049(8)e-3 | 1.34(1)    | 1.38(2)    | 1.31(2)    | 2.09(3)e+2 | 9(1)      | 9(1)e-2  \n",
      "1.064(8)e-3 | 1.36(1)    | 1.38(2)    | 1.35(2)    | 2.31(3)e+2 | 9(1)      | 9(1)e-2  \n",
      "\n"
     ]
    }
   ],
   "source": [
    "for d in data:\n",
    "    d[\"B [T]\"] = calc_B(d[\"I [A]\"]);\n",
    "\n",
    "data.round_index(\"B [T]\")\n",
    "print(data)"
   ]
  },
  {
   "cell_type": "markdown",
   "metadata": {},
   "source": [
    "### 242b.3"
   ]
  },
  {
   "cell_type": "markdown",
   "metadata": {},
   "source": [
    "Stellen Sie die Messdaten in einem Diagramm $(r I)^2$ gegen $U$ dar."
   ]
  },
  {
   "cell_type": "code",
   "execution_count": 9,
   "metadata": {},
   "outputs": [
    {
     "name": "stdout",
     "output_type": "stream",
     "text": [
      "B [T]       | I [A]      | I_1 [A]    | I_2 [A]    | U [V]      | d [cm]    | d [m]     | r [m]    \n",
      "------------+------------+------------+------------+------------+-----------+-----------+----------\n",
      "5.15(4)e-4  | 6.60(5)e-1 | 6.90(7)e-1 | 6.30(7)e-1 | 9.00(9)e+1 | 1.2(1)e+1 | 1.2(1)e-1 | 6.0(5)e-2\n",
      "5.61(6)e-4  | 7.20(6)e-1 | 7.40(8)e-1 | 7.00(7)e-1 | 1.00(1)e+2 | 1.2(1)e+1 | 1.2(1)e-1 | 6.0(5)e-2\n",
      "8.11(7)e-4  | 1.040(8)   | 1.08(2)    | 1.00(1)    | 1.20(2)e+2 | 9(1)      | 9(1)e-2   | 4.5(5)e-2\n",
      "8.73(7)e-4  | 1.120(8)   | 1.16(2)    | 1.08(2)    | 1.29(2)e+2 | 8(1)      | 8(1)e-2   | 4.2(5)e-2\n",
      "8.81(7)e-4  | 1.130(8)   | 1.17(2)    | 1.09(2)    | 1.42(2)e+2 | 9(1)      | 9(1)e-2   | 4.3(5)e-2\n",
      "9.32(8)e-4  | 1.195(9)   | 1.24(2)    | 1.15(2)    | 1.50(2)e+2 | 9(1)      | 9(1)e-2   | 4.3(5)e-2\n",
      "1.12(2)e-3  | 1.44(2)    | 1.49(2)    | 1.40(2)    | 1.70(2)e+2 | 8(1)      | 8(1)e-2   | 3.8(5)e-2\n",
      "1.12(2)e-3  | 1.44(2)    | 1.49(2)    | 1.39(2)    | 1.82(2)e+2 | 7(1)      | 7(1)e-2   | 3.4(5)e-2\n",
      "1.049(8)e-3 | 1.34(1)    | 1.38(2)    | 1.31(2)    | 2.09(3)e+2 | 9(1)      | 9(1)e-2   | 4.5(5)e-2\n",
      "1.064(8)e-3 | 1.36(1)    | 1.38(2)    | 1.35(2)    | 2.31(3)e+2 | 9(1)      | 9(1)e-2   | 4.7(5)e-2\n",
      "\n"
     ]
    }
   ],
   "source": [
    "for d in data:\n",
    "    d[\"r [m]\"] = 0.5 * d[\"d [m]\"];\n",
    "\n",
    "data.round_index(\"r [m]\")\n",
    "print(data)"
   ]
  },
  {
   "cell_type": "code",
   "execution_count": 10,
   "metadata": {},
   "outputs": [
    {
     "name": "stdout",
     "output_type": "stream",
     "text": [
      "Error occurred: Cannot save file into a non-existent directory: 'output'\n",
      "Error occurred: Excel file not found.\n",
      "Error occurred: Excel file not found.\n",
      "(rI)^2    | B [T]       | I [A]      | I_1 [A]    | I_2 [A]    | U [V]      | d [cm]    | d [m]     | r [m]    \n",
      "----------+-------------+------------+------------+------------+------------+-----------+-----------+----------\n",
      "1.6(3)e-3 | 5.15(4)e-4  | 6.60(5)e-1 | 6.90(7)e-1 | 6.30(7)e-1 | 9.00(9)e+1 | 1.2(1)e+1 | 1.2(1)e-1 | 6.0(5)e-2\n",
      "1.9(4)e-3 | 5.61(6)e-4  | 7.20(6)e-1 | 7.40(8)e-1 | 7.00(7)e-1 | 1.00(1)e+2 | 1.2(1)e+1 | 1.2(1)e-1 | 6.0(5)e-2\n",
      "2.2(5)e-3 | 8.11(7)e-4  | 1.040(8)   | 1.08(2)    | 1.00(1)    | 1.20(2)e+2 | 9(1)      | 9(1)e-2   | 4.5(5)e-2\n",
      "2.2(6)e-3 | 8.73(7)e-4  | 1.120(8)   | 1.16(2)    | 1.08(2)    | 1.29(2)e+2 | 8(1)      | 8(1)e-2   | 4.2(5)e-2\n",
      "2.4(6)e-3 | 8.81(7)e-4  | 1.130(8)   | 1.17(2)    | 1.09(2)    | 1.42(2)e+2 | 9(1)      | 9(1)e-2   | 4.3(5)e-2\n",
      "2.6(7)e-3 | 9.32(8)e-4  | 1.195(9)   | 1.24(2)    | 1.15(2)    | 1.50(2)e+2 | 9(1)      | 9(1)e-2   | 4.3(5)e-2\n",
      "3.0(8)e-3 | 1.12(2)e-3  | 1.44(2)    | 1.49(2)    | 1.40(2)    | 1.70(2)e+2 | 8(1)      | 8(1)e-2   | 3.8(5)e-2\n",
      "2.4(8)e-3 | 1.12(2)e-3  | 1.44(2)    | 1.49(2)    | 1.39(2)    | 1.82(2)e+2 | 7(1)      | 7(1)e-2   | 3.4(5)e-2\n",
      "3.7(9)e-3 | 1.049(8)e-3 | 1.34(1)    | 1.38(2)    | 1.31(2)    | 2.09(3)e+2 | 9(1)      | 9(1)e-2   | 4.5(5)e-2\n",
      "4.1(9)e-3 | 1.064(8)e-3 | 1.36(1)    | 1.38(2)    | 1.35(2)    | 2.31(3)e+2 | 9(1)      | 9(1)e-2   | 4.7(5)e-2\n",
      "\n"
     ]
    }
   ],
   "source": [
    "for d in data:\n",
    "    d[\"(rI)^2\"] = (d[\"r [m]\"] * d[\"I [A]\"])**2;\n",
    "\n",
    "data.round_index(\"(rI)^2\")\n",
    "data.save_to_excel_measurements(\"./output/242b_plot_data\")\n",
    "print(data)"
   ]
  },
  {
   "cell_type": "code",
   "execution_count": 11,
   "metadata": {},
   "outputs": [
    {
     "ename": "TypeError",
     "evalue": "float() argument must be a string or a real number, not 'Measurement'",
     "output_type": "error",
     "traceback": [
      "\u001b[1;31m---------------------------------------------------------------------------\u001b[0m",
      "\u001b[1;31mTypeError\u001b[0m                                 Traceback (most recent call last)",
      "Cell \u001b[1;32mIn[11], line 18\u001b[0m\n\u001b[0;32m     16\u001b[0m scatter, errorbar, _ \u001b[38;5;241m=\u001b[39m graph\u001b[38;5;241m.\u001b[39mscatter_data(data, \u001b[38;5;124m\"\u001b[39m\u001b[38;5;124mU [V]\u001b[39m\u001b[38;5;124m\"\u001b[39m, \u001b[38;5;124m\"\u001b[39m\u001b[38;5;124m(rI)^2\u001b[39m\u001b[38;5;124m\"\u001b[39m, plot\u001b[38;5;241m=\u001b[39mplot) \n\u001b[0;32m     17\u001b[0m [cap\u001b[38;5;241m.\u001b[39mset_markersize(\u001b[38;5;241m5\u001b[39m) \u001b[38;5;28;01mfor\u001b[39;00m cap \u001b[38;5;129;01min\u001b[39;00m errorbar[\u001b[38;5;241m1\u001b[39m]]\n\u001b[1;32m---> 18\u001b[0m plot_res \u001b[38;5;241m=\u001b[39m \u001b[43mgraph\u001b[49m\u001b[38;5;241;43m.\u001b[39;49m\u001b[43mplot_func\u001b[49m\u001b[43m(\u001b[49m\u001b[43mgraphfit\u001b[49m\u001b[38;5;241;43m.\u001b[39;49m\u001b[43mfunc\u001b[49m\u001b[43m,\u001b[49m\u001b[43m \u001b[49m\u001b[43mplot\u001b[49m\u001b[38;5;241;43m=\u001b[39;49m\u001b[43mplot\u001b[49m\u001b[43m,\u001b[49m\u001b[43m \u001b[49m\u001b[43mlabel\u001b[49m\u001b[38;5;241;43m=\u001b[39;49m\u001b[38;5;124;43mr\u001b[39;49m\u001b[38;5;124;43m\"\u001b[39;49m\u001b[38;5;124;43m$\u001b[39;49m\u001b[38;5;124;43m\\\u001b[39;49m\u001b[38;5;124;43mchi^2$-Fit\u001b[39;49m\u001b[38;5;124;43m\"\u001b[39;49m\u001b[43m,\u001b[49m\u001b[43m \u001b[49m\u001b[43mchange_viewport\u001b[49m\u001b[38;5;241;43m=\u001b[39;49m\u001b[38;5;28;43;01mFalse\u001b[39;49;00m\u001b[43m)\u001b[49m\n\u001b[0;32m     20\u001b[0m ax\u001b[38;5;241m.\u001b[39myaxis\u001b[38;5;241m.\u001b[39mset_major_formatter(ScalarFormatter(useMathText\u001b[38;5;241m=\u001b[39m\u001b[38;5;28;01mTrue\u001b[39;00m))\n\u001b[0;32m     21\u001b[0m ax\u001b[38;5;241m.\u001b[39mticklabel_format(axis\u001b[38;5;241m=\u001b[39m\u001b[38;5;124m'\u001b[39m\u001b[38;5;124my\u001b[39m\u001b[38;5;124m'\u001b[39m, style\u001b[38;5;241m=\u001b[39m\u001b[38;5;124m'\u001b[39m\u001b[38;5;124msci\u001b[39m\u001b[38;5;124m'\u001b[39m, scilimits\u001b[38;5;241m=\u001b[39m(\u001b[38;5;241m-\u001b[39m\u001b[38;5;241m3\u001b[39m, \u001b[38;5;241m-\u001b[39m\u001b[38;5;241m3\u001b[39m))\n",
      "File \u001b[1;32mc:\\Users\\flhir\\OneDrive\\Dokumente\\Obsidian\\uni-obsidian\\Praktikum\\util\\graph.py:67\u001b[0m, in \u001b[0;36mplot_func\u001b[1;34m(fit_func, plot, change_viewport, with_error, **kwargs)\u001b[0m\n\u001b[0;32m     65\u001b[0m x_smooth \u001b[38;5;241m=\u001b[39m np\u001b[38;5;241m.\u001b[39mlinspace(xmin, xmax, \u001b[38;5;241m10000\u001b[39m)\n\u001b[0;32m     66\u001b[0m y_smooth \u001b[38;5;241m=\u001b[39m fit_func(x_smooth)\n\u001b[1;32m---> 67\u001b[0m line \u001b[38;5;241m=\u001b[39m \u001b[43max\u001b[49m\u001b[38;5;241;43m.\u001b[39;49m\u001b[43mplot\u001b[49m\u001b[43m(\u001b[49m\u001b[43mx_smooth\u001b[49m\u001b[43m,\u001b[49m\u001b[43m \u001b[49m\u001b[43my_smooth\u001b[49m\u001b[43m,\u001b[49m\u001b[43m \u001b[49m\u001b[38;5;241;43m*\u001b[39;49m\u001b[38;5;241;43m*\u001b[39;49m\u001b[43mkwargs\u001b[49m\u001b[43m)\u001b[49m\n\u001b[0;32m     69\u001b[0m \u001b[38;5;66;03m# if min, max parameter are provided color the 1-sigma area\u001b[39;00m\n\u001b[0;32m     70\u001b[0m fill \u001b[38;5;241m=\u001b[39m \u001b[38;5;28;01mNone\u001b[39;00m\n",
      "File \u001b[1;32me:\\coding\\languages\\python\\Lib\\site-packages\\matplotlib\\axes\\_axes.py:1781\u001b[0m, in \u001b[0;36mAxes.plot\u001b[1;34m(self, scalex, scaley, data, *args, **kwargs)\u001b[0m\n\u001b[0;32m   1779\u001b[0m lines \u001b[38;5;241m=\u001b[39m [\u001b[38;5;241m*\u001b[39m\u001b[38;5;28mself\u001b[39m\u001b[38;5;241m.\u001b[39m_get_lines(\u001b[38;5;28mself\u001b[39m, \u001b[38;5;241m*\u001b[39margs, data\u001b[38;5;241m=\u001b[39mdata, \u001b[38;5;241m*\u001b[39m\u001b[38;5;241m*\u001b[39mkwargs)]\n\u001b[0;32m   1780\u001b[0m \u001b[38;5;28;01mfor\u001b[39;00m line \u001b[38;5;129;01min\u001b[39;00m lines:\n\u001b[1;32m-> 1781\u001b[0m     \u001b[38;5;28;43mself\u001b[39;49m\u001b[38;5;241;43m.\u001b[39;49m\u001b[43madd_line\u001b[49m\u001b[43m(\u001b[49m\u001b[43mline\u001b[49m\u001b[43m)\u001b[49m\n\u001b[0;32m   1782\u001b[0m \u001b[38;5;28;01mif\u001b[39;00m scalex:\n\u001b[0;32m   1783\u001b[0m     \u001b[38;5;28mself\u001b[39m\u001b[38;5;241m.\u001b[39m_request_autoscale_view(\u001b[38;5;124m\"\u001b[39m\u001b[38;5;124mx\u001b[39m\u001b[38;5;124m\"\u001b[39m)\n",
      "File \u001b[1;32me:\\coding\\languages\\python\\Lib\\site-packages\\matplotlib\\axes\\_base.py:2339\u001b[0m, in \u001b[0;36m_AxesBase.add_line\u001b[1;34m(self, line)\u001b[0m\n\u001b[0;32m   2336\u001b[0m \u001b[38;5;28;01mif\u001b[39;00m line\u001b[38;5;241m.\u001b[39mget_clip_path() \u001b[38;5;129;01mis\u001b[39;00m \u001b[38;5;28;01mNone\u001b[39;00m:\n\u001b[0;32m   2337\u001b[0m     line\u001b[38;5;241m.\u001b[39mset_clip_path(\u001b[38;5;28mself\u001b[39m\u001b[38;5;241m.\u001b[39mpatch)\n\u001b[1;32m-> 2339\u001b[0m \u001b[38;5;28;43mself\u001b[39;49m\u001b[38;5;241;43m.\u001b[39;49m\u001b[43m_update_line_limits\u001b[49m\u001b[43m(\u001b[49m\u001b[43mline\u001b[49m\u001b[43m)\u001b[49m\n\u001b[0;32m   2340\u001b[0m \u001b[38;5;28;01mif\u001b[39;00m \u001b[38;5;129;01mnot\u001b[39;00m line\u001b[38;5;241m.\u001b[39mget_label():\n\u001b[0;32m   2341\u001b[0m     line\u001b[38;5;241m.\u001b[39mset_label(\u001b[38;5;124mf\u001b[39m\u001b[38;5;124m'\u001b[39m\u001b[38;5;124m_child\u001b[39m\u001b[38;5;132;01m{\u001b[39;00m\u001b[38;5;28mlen\u001b[39m(\u001b[38;5;28mself\u001b[39m\u001b[38;5;241m.\u001b[39m_children)\u001b[38;5;132;01m}\u001b[39;00m\u001b[38;5;124m'\u001b[39m)\n",
      "File \u001b[1;32me:\\coding\\languages\\python\\Lib\\site-packages\\matplotlib\\axes\\_base.py:2362\u001b[0m, in \u001b[0;36m_AxesBase._update_line_limits\u001b[1;34m(self, line)\u001b[0m\n\u001b[0;32m   2358\u001b[0m \u001b[38;5;28;01mdef\u001b[39;00m \u001b[38;5;21m_update_line_limits\u001b[39m(\u001b[38;5;28mself\u001b[39m, line):\n\u001b[0;32m   2359\u001b[0m \u001b[38;5;250m    \u001b[39m\u001b[38;5;124;03m\"\"\"\u001b[39;00m\n\u001b[0;32m   2360\u001b[0m \u001b[38;5;124;03m    Figures out the data limit of the given line, updating self.dataLim.\u001b[39;00m\n\u001b[0;32m   2361\u001b[0m \u001b[38;5;124;03m    \"\"\"\u001b[39;00m\n\u001b[1;32m-> 2362\u001b[0m     path \u001b[38;5;241m=\u001b[39m \u001b[43mline\u001b[49m\u001b[38;5;241;43m.\u001b[39;49m\u001b[43mget_path\u001b[49m\u001b[43m(\u001b[49m\u001b[43m)\u001b[49m\n\u001b[0;32m   2363\u001b[0m     \u001b[38;5;28;01mif\u001b[39;00m path\u001b[38;5;241m.\u001b[39mvertices\u001b[38;5;241m.\u001b[39msize \u001b[38;5;241m==\u001b[39m \u001b[38;5;241m0\u001b[39m:\n\u001b[0;32m   2364\u001b[0m         \u001b[38;5;28;01mreturn\u001b[39;00m\n",
      "File \u001b[1;32me:\\coding\\languages\\python\\Lib\\site-packages\\matplotlib\\lines.py:1037\u001b[0m, in \u001b[0;36mLine2D.get_path\u001b[1;34m(self)\u001b[0m\n\u001b[0;32m   1035\u001b[0m \u001b[38;5;250m\u001b[39m\u001b[38;5;124;03m\"\"\"Return the `~matplotlib.path.Path` associated with this line.\"\"\"\u001b[39;00m\n\u001b[0;32m   1036\u001b[0m \u001b[38;5;28;01mif\u001b[39;00m \u001b[38;5;28mself\u001b[39m\u001b[38;5;241m.\u001b[39m_invalidy \u001b[38;5;129;01mor\u001b[39;00m \u001b[38;5;28mself\u001b[39m\u001b[38;5;241m.\u001b[39m_invalidx:\n\u001b[1;32m-> 1037\u001b[0m     \u001b[38;5;28;43mself\u001b[39;49m\u001b[38;5;241;43m.\u001b[39;49m\u001b[43mrecache\u001b[49m\u001b[43m(\u001b[49m\u001b[43m)\u001b[49m\n\u001b[0;32m   1038\u001b[0m \u001b[38;5;28;01mreturn\u001b[39;00m \u001b[38;5;28mself\u001b[39m\u001b[38;5;241m.\u001b[39m_path\n",
      "File \u001b[1;32me:\\coding\\languages\\python\\Lib\\site-packages\\matplotlib\\lines.py:679\u001b[0m, in \u001b[0;36mLine2D.recache\u001b[1;34m(self, always)\u001b[0m\n\u001b[0;32m    677\u001b[0m \u001b[38;5;28;01mif\u001b[39;00m always \u001b[38;5;129;01mor\u001b[39;00m \u001b[38;5;28mself\u001b[39m\u001b[38;5;241m.\u001b[39m_invalidy:\n\u001b[0;32m    678\u001b[0m     yconv \u001b[38;5;241m=\u001b[39m \u001b[38;5;28mself\u001b[39m\u001b[38;5;241m.\u001b[39mconvert_yunits(\u001b[38;5;28mself\u001b[39m\u001b[38;5;241m.\u001b[39m_yorig)\n\u001b[1;32m--> 679\u001b[0m     y \u001b[38;5;241m=\u001b[39m \u001b[43m_to_unmasked_float_array\u001b[49m\u001b[43m(\u001b[49m\u001b[43myconv\u001b[49m\u001b[43m)\u001b[49m\u001b[38;5;241m.\u001b[39mravel()\n\u001b[0;32m    680\u001b[0m \u001b[38;5;28;01melse\u001b[39;00m:\n\u001b[0;32m    681\u001b[0m     y \u001b[38;5;241m=\u001b[39m \u001b[38;5;28mself\u001b[39m\u001b[38;5;241m.\u001b[39m_y\n",
      "File \u001b[1;32me:\\coding\\languages\\python\\Lib\\site-packages\\matplotlib\\cbook.py:1398\u001b[0m, in \u001b[0;36m_to_unmasked_float_array\u001b[1;34m(x)\u001b[0m\n\u001b[0;32m   1396\u001b[0m     \u001b[38;5;28;01mreturn\u001b[39;00m np\u001b[38;5;241m.\u001b[39mma\u001b[38;5;241m.\u001b[39masarray(x, \u001b[38;5;28mfloat\u001b[39m)\u001b[38;5;241m.\u001b[39mfilled(np\u001b[38;5;241m.\u001b[39mnan)\n\u001b[0;32m   1397\u001b[0m \u001b[38;5;28;01melse\u001b[39;00m:\n\u001b[1;32m-> 1398\u001b[0m     \u001b[38;5;28;01mreturn\u001b[39;00m \u001b[43mnp\u001b[49m\u001b[38;5;241;43m.\u001b[39;49m\u001b[43masarray\u001b[49m\u001b[43m(\u001b[49m\u001b[43mx\u001b[49m\u001b[43m,\u001b[49m\u001b[43m \u001b[49m\u001b[38;5;28;43mfloat\u001b[39;49m\u001b[43m)\u001b[49m\n",
      "\u001b[1;31mTypeError\u001b[0m: float() argument must be a string or a real number, not 'Measurement'"
     ]
    },
    {
     "data": {
      "image/png": "[encoded data removed]",
      "text/plain": [
       "<Figure size 640x480 with 1 Axes>"
      ]
     },
     "metadata": {},
     "output_type": "display_data"
    }
   ],
   "source": [
    "from util import graph_fit;\n",
    "from util import graph;\n",
    "import matplotlib.pyplot as plt;\n",
    "from matplotlib.ticker import ScalarFormatter\n",
    "\n",
    "plot = plt.subplots();\n",
    "fig, ax = plot;\n",
    "\n",
    "ax.set_xlabel(r\"$U~[V]$\");\n",
    "ax.set_ylabel(r\"$(rI)^2~[m^2 A^2]$\");\n",
    "ax.grid(alpha=.5) \n",
    "ax.set_title(r\"Plot $(rI)^2$ gegen $U$\")\n",
    "\n",
    "graphfit = graph_fit.Linear.on_data(data, \"U [V]\", \"(rI)^2\");\n",
    "\n",
    "scatter, errorbar, _ = graph.scatter_data(data, \"U [V]\", \"(rI)^2\", plot=plot) \n",
    "[cap.set_markersize(5) for cap in errorbar[1]]\n",
    "plot_res = graph.plot_func(graphfit.func, plot=plot, label=r\"$\\chi^2$-Fit\", change_viewport=False)\n",
    "\n",
    "ax.yaxis.set_major_formatter(ScalarFormatter(useMathText=True))\n",
    "ax.ticklabel_format(axis='y', style='sci', scilimits=(-3, -3))\n",
    "ax.legend(loc=\"upper left\")\n",
    "\n",
    "fig.savefig(\"./output/242b\")\n",
    "fig.savefig(\"./pdf/plot_242b.pdf\")"
   ]
  },
  {
   "cell_type": "code",
   "execution_count": null,
   "metadata": {},
   "outputs": [
    {
     "name": "stdout",
     "output_type": "stream",
     "text": [
      "m: ( 15.3 ± 4.5)e-6 [·], n: (  2.9 ± 5.8)e-4 [·]\n",
      "Steigung = ( 15.3 ± 4.5)e-6 [·]\n"
     ]
    }
   ],
   "source": [
    "print(params)\n",
    "m_graph = params[\"m\"]\n",
    "print(f\"Steigung = {m_graph}\")\n"
   ]
  },
  {
   "cell_type": "markdown",
   "metadata": {},
   "source": [
    "### 242b.4"
   ]
  },
  {
   "cell_type": "markdown",
   "metadata": {},
   "source": [
    "Bestimmen Sie mit Hilfe des Diagramms 𝑒/𝑚. Geben Sie 𝑒/𝑚 in C/kg an. "
   ]
  },
  {
   "cell_type": "markdown",
   "metadata": {},
   "source": [
    "Es gilt:\n",
    "\n",
    "$$\n",
    "\\frac{e}{m} = \\frac{2 R^2}{{0.716}^2 \\mu_0^2 n^2} \\frac{1}{m_{graph}}\n",
    "$$"
   ]
  },
  {
   "cell_type": "code",
   "execution_count": null,
   "metadata": {},
   "outputs": [],
   "source": [
    "def calc_em(m_graph):\n",
    "    return 2 * R**2 / (0.716**2 * mu_0**2 * n**2 * m_graph);"
   ]
  },
  {
   "cell_type": "code",
   "execution_count": null,
   "metadata": {},
   "outputs": [
    {
     "name": "stdout",
     "output_type": "stream",
     "text": [
      "e/m = ( 21.5 ± 6.3)e+10 [·]\n"
     ]
    }
   ],
   "source": [
    "spezifische_Ladung = calc_em(m_graph)\n",
    "print(f\"e/m = {spezifische_Ladung}\")"
   ]
  },
  {
   "cell_type": "markdown",
   "metadata": {},
   "source": [
    "### 242b.5"
   ]
  },
  {
   "cell_type": "markdown",
   "metadata": {},
   "source": [
    "Berechnen Sie die Größe von 𝐵E in Tesla."
   ]
  },
  {
   "cell_type": "markdown",
   "metadata": {},
   "source": [
    "Es gilt:\n",
    "\n",
    "$$\n",
    "B_E = \\frac{1}{2} \\left| B_{S,1} - B_{S,2} \\right|\n",
    "$$"
   ]
  },
  {
   "cell_type": "code",
   "execution_count": null,
   "metadata": {},
   "outputs": [
    {
     "name": "stdout",
     "output_type": "stream",
     "text": [
      "B_S1 [T]             | B_S2 [T]             | I_1 [A]              | I_2 [A]             \n",
      "---------------------+----------------------+----------------------+---------------------\n",
      "(538.0 ± 6.0)e-6 [·] | (491.0 ± 6.0)e-6 [·] | (690.0 ± 7.0)e-3 [·] | (630.0 ± 7.0)e-3 [·]\n",
      "(577.0 ± 7.0)e-6 [·] | (546.0 ± 6.0)e-6 [·] | (740.0 ± 8.0)e-3 [·] | (700.0 ± 7.0)e-3 [·]\n",
      "( 84.0 ± 2.0)e-5 [·] | (780.0 ± 8.0)e-6 [·] | (108.0 ± 2.0)e-2 [·] | (100.0 ± 1.0)e-2 [·]\n",
      "( 90.0 ± 2.0)e-5 [·] | ( 84.0 ± 2.0)e-5 [·] | (116.0 ± 2.0)e-2 [·] | (108.0 ± 2.0)e-2 [·]\n",
      "( 91.0 ± 2.0)e-5 [·] | ( 85.0 ± 2.0)e-5 [·] | (117.0 ± 2.0)e-2 [·] | (109.0 ± 2.0)e-2 [·]\n",
      "( 97.0 ± 2.0)e-5 [·] | ( 90.0 ± 2.0)e-5 [·] | (124.0 ± 2.0)e-2 [·] | (115.0 ± 2.0)e-2 [·]\n",
      "(116.0 ± 2.0)e-5 [·] | (109.0 ± 2.0)e-5 [·] | (149.0 ± 2.0)e-2 [·] | (140.0 ± 2.0)e-2 [·]\n",
      "(116.0 ± 2.0)e-5 [·] | (108.0 ± 2.0)e-5 [·] | (149.0 ± 2.0)e-2 [·] | (139.0 ± 2.0)e-2 [·]\n",
      "(108.0 ± 2.0)e-5 [·] | (102.0 ± 2.0)e-5 [·] | (138.0 ± 2.0)e-2 [·] | (131.0 ± 2.0)e-2 [·]\n",
      "(108.0 ± 2.0)e-5 [·] | (105.0 ± 2.0)e-5 [·] | (138.0 ± 2.0)e-2 [·] | (135.0 ± 2.0)e-2 [·]\n",
      "\n"
     ]
    }
   ],
   "source": [
    "for d in data:\n",
    "    d[\"B_S1 [T]\"] = calc_B(d[\"I_1 [A]\"])\n",
    "    d[\"B_S2 [T]\"] = calc_B(d[\"I_2 [A]\"])\n",
    "\n",
    "data.round_index(\"B_S1 [T]\")\n",
    "data.round_index(\"B_S2 [T]\")\n",
    "\n",
    "data = data.copy_remove_index(\"(rI)^2\")\n",
    "data = data.copy_remove_index(\"B [T]\")\n",
    "data = data.copy_remove_index(\"I [A]\")\n",
    "data = data.copy_remove_index(\"U [V]\")\n",
    "data = data.copy_remove_index(\"d [cm]\")\n",
    "data = data.copy_remove_index(\"d [m]\")\n",
    "data = data.copy_remove_index(\"r [m]\")\n",
    "\n",
    "data.print_2()"
   ]
  },
  {
   "cell_type": "code",
   "execution_count": null,
   "metadata": {},
   "outputs": [
    {
     "name": "stdout",
     "output_type": "stream",
     "text": [
      "B_E [T]              | B_S1 [T]             | B_S2 [T]             | I_1 [A]              | I_2 [A]             \n",
      "---------------------+----------------------+----------------------+----------------------+---------------------\n",
      "( 23.0 ± 5.0)e-6 [·] | (538.0 ± 6.0)e-6 [·] | (491.0 ± 6.0)e-6 [·] | (690.0 ± 7.0)e-3 [·] | (630.0 ± 7.0)e-3 [·]\n",
      "( 15.0 ± 5.0)e-6 [·] | (577.0 ± 7.0)e-6 [·] | (546.0 ± 6.0)e-6 [·] | (740.0 ± 8.0)e-3 [·] | (700.0 ± 7.0)e-3 [·]\n",
      "(  3.0 ± 2.0)e-5 [·] | ( 84.0 ± 2.0)e-5 [·] | (780.0 ± 8.0)e-6 [·] | (108.0 ± 2.0)e-2 [·] | (100.0 ± 1.0)e-2 [·]\n",
      "(  3.0 ± 2.0)e-5 [·] | ( 90.0 ± 2.0)e-5 [·] | ( 84.0 ± 2.0)e-5 [·] | (116.0 ± 2.0)e-2 [·] | (108.0 ± 2.0)e-2 [·]\n",
      "(  3.0 ± 2.0)e-5 [·] | ( 91.0 ± 2.0)e-5 [·] | ( 85.0 ± 2.0)e-5 [·] | (117.0 ± 2.0)e-2 [·] | (109.0 ± 2.0)e-2 [·]\n",
      "(  4.0 ± 2.0)e-5 [·] | ( 97.0 ± 2.0)e-5 [·] | ( 90.0 ± 2.0)e-5 [·] | (124.0 ± 2.0)e-2 [·] | (115.0 ± 2.0)e-2 [·]\n",
      "(  3.0 ± 2.0)e-5 [·] | (116.0 ± 2.0)e-5 [·] | (109.0 ± 2.0)e-5 [·] | (149.0 ± 2.0)e-2 [·] | (140.0 ± 2.0)e-2 [·]\n",
      "(  4.0 ± 2.0)e-5 [·] | (116.0 ± 2.0)e-5 [·] | (108.0 ± 2.0)e-5 [·] | (149.0 ± 2.0)e-2 [·] | (139.0 ± 2.0)e-2 [·]\n",
      "(  3.0 ± 2.0)e-5 [·] | (108.0 ± 2.0)e-5 [·] | (102.0 ± 2.0)e-5 [·] | (138.0 ± 2.0)e-2 [·] | (131.0 ± 2.0)e-2 [·]\n",
      "(  2.0 ± 2.0)e-5 [·] | (108.0 ± 2.0)e-5 [·] | (105.0 ± 2.0)e-5 [·] | (138.0 ± 2.0)e-2 [·] | (135.0 ± 2.0)e-2 [·]\n",
      "\n"
     ]
    }
   ],
   "source": [
    "for d in data:\n",
    "    d[\"B_E [T]\"] = 0.5 * abs(d[\"B_S1 [T]\"] - d[\"B_S2 [T]\"])\n",
    "\n",
    "data.round_index(\"B_E [T]\");\n",
    "data.print_2()\n",
    "data.save_to_excel_measurements(\"./output/242b_BE\")"
   ]
  },
  {
   "cell_type": "code",
   "execution_count": null,
   "metadata": {},
   "outputs": [
    {
     "name": "stdout",
     "output_type": "stream",
     "text": [
      "( 21.4 ± 3.2)e-6 [·]\n"
     ]
    }
   ],
   "source": [
    "from util import mymath;\n",
    "\n",
    "B_earth_measurements = data.column(\"B_E [T]\");\n",
    "B_earth_mean = mymath.error_weighted_mean(B_earth_measurements);\n",
    "print(B_earth_mean);"
   ]
  },
  {
   "cell_type": "code",
   "execution_count": null,
   "metadata": {},
   "outputs": [],
   "source": []
  }
 ],
 "metadata": {
  "kernelspec": {
   "display_name": "Python 3",
   "language": "python",
   "name": "python3"
  },
  "language_info": {
   "codemirror_mode": {
    "name": "ipython",
    "version": 3
   },
   "file_extension": ".py",
   "mimetype": "text/x-python",
   "name": "python",
   "nbconvert_exporter": "python",
   "pygments_lexer": "ipython3",
   "version": "3.13.1"
  }
 },
 "nbformat": 4,
 "nbformat_minor": 2
}
