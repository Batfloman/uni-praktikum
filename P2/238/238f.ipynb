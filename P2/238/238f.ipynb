{
 "cells": [
  {
   "cell_type": "code",
   "execution_count": 4,
   "metadata": {},
   "outputs": [],
   "source": [
    "import sys\n",
    "import os\n",
    "\n",
    "# Get the current directory of the notebook\n",
    "notebook_dir = os.path.abspath('')\n",
    "_dir = os.path.dirname(notebook_dir)\n",
    "_dir = os.path.dirname(_dir)\n",
    "_dir = os.path.dirname(_dir)\n",
    "sys.path.append(_dir)"
   ]
  },
  {
   "cell_type": "markdown",
   "metadata": {},
   "source": [
    "<hr />"
   ]
  },
  {
   "cell_type": "markdown",
   "metadata": {},
   "source": [
    "Tragen Sie die gemessenen Werte für die Spannungsübertragung 𝑈2/𝑈1 gegen 𝐼2 auf.\n",
    "\n",
    "Berechnen Sie – mit den gemessenen Werten für 𝑀/𝐿 und 𝜔𝐿 (siehe Aufgaben 238.e,f) und\n",
    "𝑅 = 𝑈2/𝐼2 sowie den auf den Spulen angegebenen Werten für 𝑅V – das Verhältnis 𝑈2/𝑈1\n",
    "und tragen Sie die berechneten Werte in das Diagramm ein."
   ]
  },
  {
   "cell_type": "code",
   "execution_count": 5,
   "metadata": {},
   "outputs": [],
   "source": [
    "from util.structs import DataCluster, Dataset, Measurement"
   ]
  },
  {
   "cell_type": "code",
   "execution_count": 9,
   "metadata": {},
   "outputs": [
    {
     "name": "stdout",
     "output_type": "stream",
     "text": [
      "(  4.000 ±   1.000)e-2 [⋅]\n",
      "(339.000 ±   4.000) [⋅]\n",
      "( 92.160 ±   1.920)e-2 [⋅]\n"
     ]
    }
   ],
   "source": [
    "from util import mymath\n",
    "\n",
    "R_V = Measurement(0.6, 0.006);\n",
    "\n",
    "sigma_1 = Measurement(0.04, 0.03)\n",
    "sigma_2 = Measurement(0.05, 0.06)\n",
    "sigma_3 = Measurement(0.04, 0.01)\n",
    "sigma = mymath.error_weighted_mean([sigma_1, sigma_2, sigma_3]).round()\n",
    "print(sigma)\n",
    "\n",
    "wL_1 = Measurement(338, 26)\n",
    "wL_2 = Measurement(340, 4)\n",
    "wL_3 = Measurement(337, 5)\n",
    "wL = mymath.error_weighted_mean([wL_1, wL_2, wL_3]).round()\n",
    "print(wL)\n",
    "\n",
    "ML = (1 - sigma)**2\n",
    "print(ML)"
   ]
  },
  {
   "cell_type": "code",
   "execution_count": null,
   "metadata": {},
   "outputs": [],
   "source": []
  }
 ],
 "metadata": {
  "kernelspec": {
   "display_name": "Python 3",
   "language": "python",
   "name": "python3"
  },
  "language_info": {
   "codemirror_mode": {
    "name": "ipython",
    "version": 3
   },
   "file_extension": ".py",
   "mimetype": "text/x-python",
   "name": "python",
   "nbconvert_exporter": "python",
   "pygments_lexer": "ipython3",
   "version": "3.11.9"
  }
 },
 "nbformat": 4,
 "nbformat_minor": 2
}
