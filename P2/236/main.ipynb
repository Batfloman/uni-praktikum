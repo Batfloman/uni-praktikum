{
 "cells": [
  {
   "cell_type": "markdown",
   "metadata": {},
   "source": [
    "#### Settings"
   ]
  },
  {
   "cell_type": "code",
   "execution_count": 362,
   "metadata": {},
   "outputs": [],
   "source": [
    "import sys\n",
    "import os\n",
    "\n",
    "notebook_dir = os.path.abspath('')\n",
    "project_dir = os.path.dirname(notebook_dir)\n",
    "grandparent_dir = os.path.dirname(project_dir)\n",
    "# Add the grandparent directory to the Python path\n",
    "sys.path.append(grandparent_dir)"
   ]
  },
  {
   "cell_type": "markdown",
   "metadata": {},
   "source": [
    "#### py imports"
   ]
  },
  {
   "cell_type": "code",
   "execution_count": 363,
   "metadata": {},
   "outputs": [],
   "source": [
    "from util import excel_table;\n",
    "from util.structs import DataCluster, Dataset, Measurement;\n",
    "from util.graph_fit import GraphFit;\n",
    "\n",
    "import numpy as np;\n",
    "import matplotlib.pyplot as plt;\n",
    "from matplotlib.ticker import LinearLocator;"
   ]
  },
  {
   "cell_type": "markdown",
   "metadata": {},
   "source": [
    "<hr>"
   ]
  },
  {
   "cell_type": "markdown",
   "metadata": {
    "tags": [
     "parameters"
    ]
   },
   "source": [
    "# Versuch 236 - Galvanometer zur Strom- und Ladungsmessung"
   ]
  },
  {
   "cell_type": "markdown",
   "metadata": {},
   "source": [
    "## Einleitung"
   ]
  },
  {
   "cell_type": "markdown",
   "metadata": {},
   "source": [
    "In diesem Versuch wird die Funktionsweise eines Drehspulgalvanometers untersucht, das zur Messung von elektrischen Strömen und Ladungen dient. Ein Drehspulgalvanometer besteht aus einem (stromdurchflossenen) Leiter (Spule) der sich in einem Magnetfeld befindet. In diesem Versuch wird eine rechtwinklige Spule um einen zylindrischen Eisenkern gewickelt und in den zylindrischen Luftspalt eines Permanentmagneten an einem Torsionsdraht aufgehängt:\n",
    "\n",
    "<img src=\"./img/Drehspulgalvanometer.png\" style=\"height: 10em\">\n",
    "\n",
    "Ein zentraler Aspekt dieses Experiments ist das Verständnis der verschiedenen Kräfte und Drehmomente, die auf die Spule wirken. Dazu zählen das durch den angelegten Strom erzeugte Drehmoment, das Rückstellmoment des Torsionsdrahtes sowie dämpfende Effekte, die durch das magnetische Feld und die mechanische Dämpfung entstehen.\n",
    "\n",
    "Ziel des Versuchs ist es, das Verhalten des Drehspulgalvanometers unter verschiedenen Bedingungen zu analysieren. Neben der Strommessung wird das Galvanometer auch zur Ladungsmessung verwendet, indem ein Kondensator über einen Widerstand entladen wird.\n",
    "\n",
    "Insgesamt soll der Versuch ein tieferes Verständnis für die Funktionsweise des Drehspulgalvanometers und dessen Einsatzmöglichkeiten als Messinstrument vermitteln."
   ]
  },
  {
   "cell_type": "markdown",
   "metadata": {},
   "source": [
    "## Theorie"
   ]
  },
  {
   "cell_type": "markdown",
   "metadata": {},
   "source": [
    "#### 236.1.1 Drehspulgalvanometer"
   ]
  },
  {
   "cell_type": "markdown",
   "metadata": {},
   "source": [
    "Eine rechtwinklige Drehspule hängt drehbar an einem Torsionsdraht"
   ]
  },
  {
   "cell_type": "markdown",
   "metadata": {},
   "source": [
    "<img src='./img/Drehspulgalvanometer.png' style='height: 15em;'>"
   ]
  },
  {
   "cell_type": "markdown",
   "metadata": {},
   "source": [
    "## Voraufgaben"
   ]
  },
  {
   "cell_type": "markdown",
   "metadata": {},
   "source": [
    "#### 236.A Berechnen Sie die Kräfte auf die Leiterstücke der Spule. Hängen diese Kräfte von der Stellung der Spule bezüglich der Ruhelage ab? Wie tragen diese Kräfte zu den Drehmomenten bei, die auf die Spule wirken? Welche Leiterstücke tragen zum elektrodynamischen Drehmoment $𝑀_𝑒$ bei?"
   ]
  },
  {
   "cell_type": "markdown",
   "metadata": {},
   "source": [
    "Die magnetische Kraft $F$ auf einen Leiter der Länge $l$, durch den ein Strom $I$ fließt, lautet:\n",
    "\n",
    "$$\n",
    "F = I \\left(\\vec{l} \\times \\vec{B}\\right)\n",
    "$$\n",
    "\n",
    "Betrachten wir eine Leiterschlaufe als 4 separate Leiter jeweils zwei der Länge $a$ oder $b$ <br />\n",
    "Die Kraft auf ein Paar (hier $b$) wirkt dabei parallel zur Drehachse und trägt damit nicht zum Drehmoment bei."
   ]
  },
  {
   "cell_type": "markdown",
   "metadata": {},
   "source": [
    "#### 236.B: Aufgabe 236.B: Warum ist die induzierte Spannung direkt proportional zur Winkelgeschwindigkeit? Hinweis: Kleinwinkelnäherung einer trigonometrischen Funktion ist falsch."
   ]
  },
  {
   "cell_type": "markdown",
   "metadata": {},
   "source": []
  },
  {
   "cell_type": "markdown",
   "metadata": {},
   "source": [
    "#### 236.C: In der Drehmomentbilanz (Gleichung 236.8) ist ein Term vernachlässigt worden, der von der Induktivität 𝐿 der Spule herrührt. Wie lautet dieser Term? Mit welcher Begründung kann man ihn vernachlässigen?"
   ]
  },
  {
   "cell_type": "markdown",
   "metadata": {},
   "source": [
    "Für die Selbstinduktion einer Spule gilt:\n",
    "\n",
    "$$\n",
    "U_{ind} = L \\cdot \\dot{I}\n",
    "$$\n",
    "\n",
    "Da $I$ als konstant angenommen wird, ist $\\dot{I} \\approx 0$"
   ]
  },
  {
   "cell_type": "markdown",
   "metadata": {},
   "source": [
    "#### 236.D: Wie ändert sich die Aussage von Gleichung 236.11, wenn der Weicheisenkern innerhalb der Spule weggelassen wird und die Polschuhe des Permanentmagneten eben geformt sind?"
   ]
  },
  {
   "cell_type": "markdown",
   "metadata": {},
   "source": [
    "Gleichung 236.11\n",
    "\n",
    "$$\n",
    "\\varphi = \\frac{G}{D} \\cdot I = c_I \\cdot I \\tag{236.11}\n",
    "$$\n",
    "\n",
    "Die Definition von $c_I \\equiv \\frac{G}{D}$ mit $G \\equiv nabB$ gilt nur unter der Annahme, dass das Magnetfeld immer $\\perp$ zur Spule steht. Dies wird durch den Eisenkern mit seiner hohen Permeabilität gewährleistet. Entfernt man diesen steht das Magnetfeld nicht immer rechtwinklick zur Spule und es kommt ein $\\sin(\\varphi)$ Faktor dazu. Damit ist die Beziehung nicht mehr linear"
   ]
  },
  {
   "cell_type": "markdown",
   "metadata": {},
   "source": [
    "#### 236.E: Prüfen Sie nach, dass 𝛽 und 𝜔0 die Dimension einer reziproken Zeit haben."
   ]
  },
  {
   "cell_type": "markdown",
   "metadata": {},
   "source": []
  },
  {
   "cell_type": "markdown",
   "metadata": {},
   "source": [
    "#### 236.F"
   ]
  },
  {
   "cell_type": "markdown",
   "metadata": {},
   "source": [
    "<img src='img/tasks/F.png'>"
   ]
  },
  {
   "cell_type": "markdown",
   "metadata": {},
   "source": [
    "#### 236.G"
   ]
  },
  {
   "cell_type": "markdown",
   "metadata": {},
   "source": [
    "<img src='./img/tasks/G.png'>"
   ]
  },
  {
   "cell_type": "markdown",
   "metadata": {},
   "source": [
    "#### 236.H"
   ]
  },
  {
   "cell_type": "markdown",
   "metadata": {},
   "source": [
    "<img src='./img/tasks/H.png'>"
   ]
  },
  {
   "cell_type": "markdown",
   "metadata": {},
   "source": [
    "#### 236.I"
   ]
  },
  {
   "cell_type": "markdown",
   "metadata": {},
   "source": [
    "<img src='./img/tasks/I.png'>"
   ]
  },
  {
   "cell_type": "markdown",
   "metadata": {},
   "source": [
    "## Durchführung"
   ]
  },
  {
   "cell_type": "markdown",
   "metadata": {},
   "source": [
    "### Dämpfungsverhalten"
   ]
  },
  {
   "cell_type": "markdown",
   "metadata": {},
   "source": [
    "#### 235.a"
   ]
  },
  {
   "cell_type": "markdown",
   "metadata": {},
   "source": [
    "Bewegen Sie mit der Fingerspitze die Spule des Galvonmeters vorsichtig einmal mit und einmal ohne kurzgeschlossenen äußeren Stromkreisreis: Die (elektrische) Dämpfung ist spürbar. Erklären Sie schriftlich was passiert und warum."
   ]
  },
  {
   "cell_type": "markdown",
   "metadata": {},
   "source": [
    "#### 236.b"
   ]
  },
  {
   "cell_type": "markdown",
   "metadata": {},
   "source": [
    "Mit Hilfe der in Abb. 235.2 dargestellten Schaltung lässt sich der Grenzwiderstand $𝑅_{Gr}$ ermitteln. "
   ]
  },
  {
   "cell_type": "markdown",
   "metadata": {},
   "source": [
    "<div style=\"text-align: center\">\n",
    "<img src=\"./img/Abb_236_2.png\" style=\"height: 15em\">\n",
    "<div />"
   ]
  },
  {
   "cell_type": "markdown",
   "metadata": {},
   "source": [
    "\n",
    "Geben Sie dazu dem Galvanometer eine kleine Auslenkung und beobachten Sie die nachfolgende Bewegung bei verschiedenen Werten von $R_a$, die Sie mit einem Stöpselwiderstand darstellen. Ist der aperiodische Grenzfall erreicht, kann man $𝑅_{Gr} = 𝑅_𝑎$ mit einem Widerstandsmessgerät messen, z.B. mit einem analogen (z.B. Unigor) oder digitalem (DMM) Multimeter (Beim Unigor die Anleitung auf der Rückseite des Gerätes beachten).\n",
    "\n",
    "Bringen Sie nun die Zusatzgewichte an und messen Sie $𝑅_{Gr}$ erneut."
   ]
  },
  {
   "cell_type": "code",
   "execution_count": 364,
   "metadata": {},
   "outputs": [],
   "source": [
    "dmm_error = 1; # ohm\n",
    "\n",
    "b_R_Gr = Measurement(1021, dmm_error, \"ohm\");\n",
    "b_R_Gr_gewicht_klein = Measurement(332.4, dmm_error, \"ohm\");\n",
    "b_R_Gr_gewicht_gross = Measurement(71.2, dmm_error, \"ohm\");"
   ]
  },
  {
   "cell_type": "markdown",
   "metadata": {},
   "source": [
    "### Stromempfindlichkeit"
   ]
  },
  {
   "cell_type": "markdown",
   "metadata": {},
   "source": [
    "#### 236.c"
   ]
  },
  {
   "cell_type": "markdown",
   "metadata": {},
   "source": [
    "Messen Sie den linearen Zusammenhang zwischen $\\frac{1}{\\varphi}$ und $R$ aus Gleichung 236.18 und stellen Sie ihn grafisch dar. Messen Sie auch alle konstanten Parameter für die folgende Auswertung. Wofür ist die Box mit Schalter und Widerstand in dem Aufbau notwendig?"
   ]
  },
  {
   "cell_type": "markdown",
   "metadata": {},
   "source": [
    "$$\n",
    "\\frac{1}{\\varphi} = \\frac{R_1 + R_2}{c_I U_0 R_2} \\left( R_g + R \\right)\n",
    "\\tag{236.18}\n",
    "$$"
   ]
  },
  {
   "cell_type": "markdown",
   "metadata": {},
   "source": [
    "Messen der Konstanten $R_g$, $R_1$, $R_2$ und $U_0$ "
   ]
  },
  {
   "cell_type": "code",
   "execution_count": 365,
   "metadata": {},
   "outputs": [],
   "source": [
    "# konstanten\n",
    "\n",
    "c_R_g = Measurement(105, 10, \"ohm\");\n",
    "c_R_1 = Measurement(10003, dmm_error, \"ohm\");\n",
    "c_R_2 = Measurement(50.3, dmm_error, \"ohm\");\n",
    "\n",
    "U_0 = Measurement(4.361, 0.1, \"Volt\");"
   ]
  },
  {
   "cell_type": "markdown",
   "metadata": {},
   "source": [
    "Messen von $\\varphi$ für $R$"
   ]
  },
  {
   "cell_type": "code",
   "execution_count": 366,
   "metadata": {},
   "outputs": [
    {
     "data": {
      "text/html": [
       "<div>\n",
       "<style scoped>\n",
       "    .dataframe tbody tr th:only-of-type {\n",
       "        vertical-align: middle;\n",
       "    }\n",
       "\n",
       "    .dataframe tbody tr th {\n",
       "        vertical-align: top;\n",
       "    }\n",
       "\n",
       "    .dataframe thead th {\n",
       "        text-align: right;\n",
       "    }\n",
       "</style>\n",
       "<table border=\"1\" class=\"dataframe\">\n",
       "  <thead>\n",
       "    <tr style=\"text-align: right;\">\n",
       "      <th></th>\n",
       "      <th>0</th>\n",
       "      <th>1</th>\n",
       "      <th>2</th>\n",
       "      <th>3</th>\n",
       "      <th>4</th>\n",
       "      <th>5</th>\n",
       "      <th>6</th>\n",
       "      <th>7</th>\n",
       "      <th>8</th>\n",
       "      <th>9</th>\n",
       "      <th>10</th>\n",
       "      <th>11</th>\n",
       "    </tr>\n",
       "  </thead>\n",
       "  <tbody>\n",
       "    <tr>\n",
       "      <th>R[ohm]</th>\n",
       "      <td>50.0</td>\n",
       "      <td>100.0</td>\n",
       "      <td>200.0</td>\n",
       "      <td>300.0</td>\n",
       "      <td>400.0</td>\n",
       "      <td>500.0</td>\n",
       "      <td>600.0</td>\n",
       "      <td>700.0</td>\n",
       "      <td>800.0</td>\n",
       "      <td>900.0</td>\n",
       "      <td>1000.0</td>\n",
       "      <td>1100.0</td>\n",
       "    </tr>\n",
       "    <tr>\n",
       "      <th>ΔR[ohm]</th>\n",
       "      <td>5.0</td>\n",
       "      <td>5.0</td>\n",
       "      <td>5.0</td>\n",
       "      <td>5.0</td>\n",
       "      <td>5.0</td>\n",
       "      <td>5.0</td>\n",
       "      <td>5.0</td>\n",
       "      <td>5.0</td>\n",
       "      <td>5.0</td>\n",
       "      <td>5.0</td>\n",
       "      <td>5.0</td>\n",
       "      <td>5.0</td>\n",
       "    </tr>\n",
       "    <tr>\n",
       "      <th>phi[skt]</th>\n",
       "      <td>51.0</td>\n",
       "      <td>40.0</td>\n",
       "      <td>30.0</td>\n",
       "      <td>23.5</td>\n",
       "      <td>19.5</td>\n",
       "      <td>17.5</td>\n",
       "      <td>15.0</td>\n",
       "      <td>12.5</td>\n",
       "      <td>11.5</td>\n",
       "      <td>10.0</td>\n",
       "      <td>9.0</td>\n",
       "      <td>8.0</td>\n",
       "    </tr>\n",
       "    <tr>\n",
       "      <th>Δphi[skt]</th>\n",
       "      <td>1.0</td>\n",
       "      <td>1.0</td>\n",
       "      <td>1.0</td>\n",
       "      <td>1.0</td>\n",
       "      <td>1.0</td>\n",
       "      <td>1.0</td>\n",
       "      <td>1.0</td>\n",
       "      <td>1.0</td>\n",
       "      <td>1.0</td>\n",
       "      <td>1.0</td>\n",
       "      <td>1.0</td>\n",
       "      <td>1.0</td>\n",
       "    </tr>\n",
       "  </tbody>\n",
       "</table>\n",
       "</div>"
      ],
      "text/plain": [
       "             0      1      2      3      4      5      6      7      8   \\\n",
       "R[ohm]     50.0  100.0  200.0  300.0  400.0  500.0  600.0  700.0  800.0   \n",
       "ΔR[ohm]     5.0    5.0    5.0    5.0    5.0    5.0    5.0    5.0    5.0   \n",
       "phi[skt]   51.0   40.0   30.0   23.5   19.5   17.5   15.0   12.5   11.5   \n",
       "Δphi[skt]   1.0    1.0    1.0    1.0    1.0    1.0    1.0    1.0    1.0   \n",
       "\n",
       "              9       10      11  \n",
       "R[ohm]     900.0  1000.0  1100.0  \n",
       "ΔR[ohm]      5.0     5.0     5.0  \n",
       "phi[skt]    10.0     9.0     8.0  \n",
       "Δphi[skt]    1.0     1.0     1.0  "
      ]
     },
     "execution_count": 366,
     "metadata": {},
     "output_type": "execute_result"
    }
   ],
   "source": [
    "c_table = excel_table.read(\"./data/236c.xlsx\", remove_header=True);\n",
    "c_data = DataCluster();\n",
    "\n",
    "c_error_R = 5; # ohm\n",
    "c_error_phi = 1; # skt\n",
    "\n",
    "for row in c_table:\n",
    "    dataset = Dataset({\n",
    "        \"R[ohm]\": Measurement(row[0], c_error_R),\n",
    "        \"phi[skt]\": Measurement(row[1], c_error_phi)\n",
    "    })\n",
    "    c_data.add(dataset);\n",
    "    \n",
    "c_df = c_data.sort(\"R[ohm]\").get_markdownTable();\n",
    "c_df.T"
   ]
  },
  {
   "cell_type": "markdown",
   "metadata": {},
   "source": [
    "#### 236.d"
   ]
  },
  {
   "cell_type": "markdown",
   "metadata": {},
   "source": [
    "Messen Sie für 5 sinvoll ausgewählte Messpunkte (R Werte) mit einem DMM an geeigneter Stelle in der Schaltung direkt den Strom den auch vom Galvanometer gemessen wird. Bestimmen Sie daraus die Stromempfindlichkeit."
   ]
  },
  {
   "cell_type": "code",
   "execution_count": 367,
   "metadata": {},
   "outputs": [
    {
     "data": {
      "text/html": [
       "<div>\n",
       "<style scoped>\n",
       "    .dataframe tbody tr th:only-of-type {\n",
       "        vertical-align: middle;\n",
       "    }\n",
       "\n",
       "    .dataframe tbody tr th {\n",
       "        vertical-align: top;\n",
       "    }\n",
       "\n",
       "    .dataframe thead th {\n",
       "        text-align: right;\n",
       "    }\n",
       "</style>\n",
       "<table border=\"1\" class=\"dataframe\">\n",
       "  <thead>\n",
       "    <tr style=\"text-align: right;\">\n",
       "      <th></th>\n",
       "      <th>I[A]</th>\n",
       "      <th>ΔI[A]</th>\n",
       "      <th>R[ohm]</th>\n",
       "      <th>ΔR[ohm]</th>\n",
       "      <th>phi[skt]</th>\n",
       "      <th>Δphi[skt]</th>\n",
       "    </tr>\n",
       "  </thead>\n",
       "  <tbody>\n",
       "    <tr>\n",
       "      <th>0</th>\n",
       "      <td>0.000018</td>\n",
       "      <td>1.770000e-07</td>\n",
       "      <td>1100.0</td>\n",
       "      <td>5.0</td>\n",
       "      <td>8.0</td>\n",
       "      <td>1.0</td>\n",
       "    </tr>\n",
       "    <tr>\n",
       "      <th>1</th>\n",
       "      <td>0.000021</td>\n",
       "      <td>2.070000e-07</td>\n",
       "      <td>900.0</td>\n",
       "      <td>5.0</td>\n",
       "      <td>10.0</td>\n",
       "      <td>1.0</td>\n",
       "    </tr>\n",
       "    <tr>\n",
       "      <th>2</th>\n",
       "      <td>0.000026</td>\n",
       "      <td>2.580000e-07</td>\n",
       "      <td>700.0</td>\n",
       "      <td>5.0</td>\n",
       "      <td>12.5</td>\n",
       "      <td>1.0</td>\n",
       "    </tr>\n",
       "    <tr>\n",
       "      <th>3</th>\n",
       "      <td>0.000035</td>\n",
       "      <td>3.460000e-07</td>\n",
       "      <td>500.0</td>\n",
       "      <td>5.0</td>\n",
       "      <td>17.5</td>\n",
       "      <td>1.0</td>\n",
       "    </tr>\n",
       "    <tr>\n",
       "      <th>4</th>\n",
       "      <td>0.000052</td>\n",
       "      <td>5.190000e-07</td>\n",
       "      <td>300.0</td>\n",
       "      <td>5.0</td>\n",
       "      <td>23.5</td>\n",
       "      <td>1.0</td>\n",
       "    </tr>\n",
       "  </tbody>\n",
       "</table>\n",
       "</div>"
      ],
      "text/plain": [
       "       I[A]         ΔI[A]  R[ohm]  ΔR[ohm]  phi[skt]  Δphi[skt]\n",
       "0  0.000018  1.770000e-07  1100.0      5.0       8.0        1.0\n",
       "1  0.000021  2.070000e-07   900.0      5.0      10.0        1.0\n",
       "2  0.000026  2.580000e-07   700.0      5.0      12.5        1.0\n",
       "3  0.000035  3.460000e-07   500.0      5.0      17.5        1.0\n",
       "4  0.000052  5.190000e-07   300.0      5.0      23.5        1.0"
      ]
     },
     "execution_count": 367,
     "metadata": {},
     "output_type": "execute_result"
    }
   ],
   "source": [
    "d_table = excel_table.read(\"./data/236.d.xlsx\", remove_header=True);\n",
    "d_data = DataCluster();\n",
    "\n",
    "d_dmm_error_Strom = 0.01; # 1% (multiplicative)\n",
    "\n",
    "for row in d_table:\n",
    "    dataset = Dataset({\n",
    "        \"R[ohm]\": Measurement(row[0], c_error_R),\n",
    "        \"I[A]\": (Measurement(row[1], d_dmm_error_Strom * row[1]) * 1e-6).round(9),\n",
    "        \"phi[skt]\": Measurement(row[2], c_error_phi)\n",
    "    })\n",
    "    d_data.add(dataset)\n",
    "\n",
    "d_df = d_data.get_markdownTable();\n",
    "d_df"
   ]
  },
  {
   "cell_type": "markdown",
   "metadata": {},
   "source": [
    "#### 236.e"
   ]
  },
  {
   "cell_type": "markdown",
   "metadata": {},
   "source": [
    "Bestimmen Sie aus der Steigung der Fit-Geraden die Stromempfindlichkeit $𝑐_𝐼$. Vergleichen Sie den Wert mit den direkt gemessenen Werten."
   ]
  },
  {
   "cell_type": "markdown",
   "metadata": {},
   "source": [
    "#### 236.f"
   ]
  },
  {
   "cell_type": "markdown",
   "metadata": {},
   "source": [
    "Bestimmen Sie den Widerstand der Galvanometerspule $R_g$ aus dem $y$-Achsenabschnitt der Fit-Geraden, wenn die Daten gemäß Gleichung 236.18 aufgetragen sind. Andernfalls wählen Sie den äquivalenten Achsenabschnitt"
   ]
  },
  {
   "cell_type": "markdown",
   "metadata": {},
   "source": [
    "#### 236.g"
   ]
  },
  {
   "cell_type": "markdown",
   "metadata": {},
   "source": [
    "Messen Sie $R_g$ mit einem DMM oder einem Unigor und vergleichen Sie die Ergebnisse."
   ]
  },
  {
   "cell_type": "code",
   "execution_count": 368,
   "metadata": {},
   "outputs": [
    {
     "name": "stdout",
     "output_type": "stream",
     "text": [
      "(105.000 ±  10.000) [ohm]\n"
     ]
    }
   ],
   "source": [
    "# nutze den aus 236.c gemessenen Wert\n",
    "g_R_g = c_R_g;\n",
    "print(g_R_g)"
   ]
  },
  {
   "cell_type": "markdown",
   "metadata": {},
   "source": [
    "#### 236.h"
   ]
  },
  {
   "cell_type": "markdown",
   "metadata": {},
   "source": [
    "Messen Sie jeweils einmal den Ausschlag $\\varphi$ für ein bestimmtes $R$ und damit $c_I$ mit verschiedenen aufgesteckten Zusatzgewichten. Erklären Sie das Resultat mit Gleichung 236.11."
   ]
  },
  {
   "cell_type": "code",
   "execution_count": 369,
   "metadata": {},
   "outputs": [],
   "source": [
    "h_R = Measurement(500, 5);\n",
    "h_R_gewicht_klein = Measurement(17, 1);\n",
    "h_R_gewicht_gross = Measurement(18, 1);"
   ]
  },
  {
   "cell_type": "markdown",
   "metadata": {},
   "source": [
    "### Ballistik"
   ]
  },
  {
   "cell_type": "markdown",
   "metadata": {},
   "source": [
    "#### 236.i"
   ]
  },
  {
   "cell_type": "markdown",
   "metadata": {},
   "source": [
    "Es ist ein großer Widerstand mit der in Abb. 236.5 gezeigten Schaltung zu messen. \n",
    "\n",
    "Verfahren: Ein bekannter Kondensator wird auf die Spannung $U_0$ aufgeladen. Dann entlädt man den Kondensator über den unbekannten Widerstand $R_x$ eine zumessende Zeitspanne $\\Delta t$ lang. Dafür öffnet man zur Zeit $t_0$ den Schalter $S$ und zur Zeit $t_1$ klappt man den Wechselschalter $W$ um. Dabei misst man $\\Delta t = t_1 - t_0$ und $\\varphi_m$. Die Messung wird für verschiedene Entladungszeiten $\\Delta t$ durchgeführt."
   ]
  },
  {
   "cell_type": "code",
   "execution_count": 370,
   "metadata": {},
   "outputs": [
    {
     "data": {
      "text/html": [
       "<div>\n",
       "<style scoped>\n",
       "    .dataframe tbody tr th:only-of-type {\n",
       "        vertical-align: middle;\n",
       "    }\n",
       "\n",
       "    .dataframe tbody tr th {\n",
       "        vertical-align: top;\n",
       "    }\n",
       "\n",
       "    .dataframe thead th {\n",
       "        text-align: right;\n",
       "    }\n",
       "</style>\n",
       "<table border=\"1\" class=\"dataframe\">\n",
       "  <thead>\n",
       "    <tr style=\"text-align: right;\">\n",
       "      <th></th>\n",
       "      <th>0</th>\n",
       "      <th>1</th>\n",
       "      <th>2</th>\n",
       "      <th>3</th>\n",
       "      <th>4</th>\n",
       "      <th>5</th>\n",
       "      <th>6</th>\n",
       "      <th>7</th>\n",
       "    </tr>\n",
       "  </thead>\n",
       "  <tbody>\n",
       "    <tr>\n",
       "      <th>phi [skt]</th>\n",
       "      <td>50.0</td>\n",
       "      <td>35.0</td>\n",
       "      <td>20.0</td>\n",
       "      <td>15.0</td>\n",
       "      <td>10.0</td>\n",
       "      <td>5.0</td>\n",
       "      <td>3.0</td>\n",
       "      <td>2.0</td>\n",
       "    </tr>\n",
       "    <tr>\n",
       "      <th>Δphi [skt]</th>\n",
       "      <td>5.0</td>\n",
       "      <td>5.0</td>\n",
       "      <td>5.0</td>\n",
       "      <td>2.0</td>\n",
       "      <td>2.0</td>\n",
       "      <td>2.0</td>\n",
       "      <td>2.0</td>\n",
       "      <td>1.0</td>\n",
       "    </tr>\n",
       "    <tr>\n",
       "      <th>t [s]</th>\n",
       "      <td>10.0</td>\n",
       "      <td>15.0</td>\n",
       "      <td>20.0</td>\n",
       "      <td>25.0</td>\n",
       "      <td>30.0</td>\n",
       "      <td>35.0</td>\n",
       "      <td>40.0</td>\n",
       "      <td>50.0</td>\n",
       "    </tr>\n",
       "    <tr>\n",
       "      <th>Δt [s]</th>\n",
       "      <td>2.0</td>\n",
       "      <td>2.0</td>\n",
       "      <td>2.0</td>\n",
       "      <td>2.0</td>\n",
       "      <td>2.0</td>\n",
       "      <td>2.0</td>\n",
       "      <td>2.0</td>\n",
       "      <td>2.0</td>\n",
       "    </tr>\n",
       "  </tbody>\n",
       "</table>\n",
       "</div>"
      ],
      "text/plain": [
       "               0     1     2     3     4     5     6     7\n",
       "phi [skt]   50.0  35.0  20.0  15.0  10.0   5.0   3.0   2.0\n",
       "Δphi [skt]   5.0   5.0   5.0   2.0   2.0   2.0   2.0   1.0\n",
       "t [s]       10.0  15.0  20.0  25.0  30.0  35.0  40.0  50.0\n",
       "Δt [s]       2.0   2.0   2.0   2.0   2.0   2.0   2.0   2.0"
      ]
     },
     "execution_count": 370,
     "metadata": {},
     "output_type": "execute_result"
    }
   ],
   "source": [
    "i_table = excel_table.read(\"./data/236.i.xlsx\", remove_header=True);\n",
    "i_data = DataCluster();\n",
    "\n",
    "error_time = 2; # s\n",
    "\n",
    "for row in i_table:\n",
    "    dataset = Dataset({\n",
    "        \"t [s]\": Measurement(row[0], error_time, \"s\"),\n",
    "        \"phi [skt]\": Measurement(row[1], row[2], \"skt\"),       \n",
    "    })\n",
    "    i_data.add(dataset);\n",
    "\n",
    "i_df = i_data.sort(\"t [s]\").get_markdownTable();\n",
    "i_df.T"
   ]
  },
  {
   "cell_type": "code",
   "execution_count": 371,
   "metadata": {},
   "outputs": [],
   "source": [
    "i_capacity = Measurement(10, 0.1, \"F\") * 1e-6;"
   ]
  },
  {
   "cell_type": "markdown",
   "metadata": {},
   "source": [
    "#### 236.j"
   ]
  },
  {
   "cell_type": "markdown",
   "metadata": {},
   "source": [
    "Messen Sie den Widerstand $R_x$ mit einem DMM und vergleichen Sie die Ergebnisse. Nehmen Sie für die Kapazität des Kondensators eine sinvolle Ungenauigkeit an."
   ]
  },
  {
   "cell_type": "code",
   "execution_count": 372,
   "metadata": {},
   "outputs": [],
   "source": [
    "j_R_x = Measurement(1.21, 0.01, \"ohm\") * 1e6; "
   ]
  },
  {
   "cell_type": "markdown",
   "metadata": {},
   "source": [
    "## Auswertung"
   ]
  },
  {
   "cell_type": "markdown",
   "metadata": {},
   "source": [
    "#### 236.a"
   ]
  },
  {
   "cell_type": "markdown",
   "metadata": {},
   "source": [
    "Bewegen Sie mit der Fingerspitze die Spule des Galvonmeters vorsichtig einmal mit und einmal ohne kurzgeschlossenen äußeren Stromkreisreis: Die (elektrische) Dämpfung ist spürbar. Erklären Sie schriftlich was passiert und warum."
   ]
  },
  {
   "cell_type": "markdown",
   "metadata": {},
   "source": [
    "Ohne kurzgeschlossenen äußeren Stromkreis schwingtdas Galvanometer deutlich stärker als mit. Grund dafür ist der Induktionsstrom, der aufgrund der Bewegung der Spule im Magnetfeld entsteht. \n"
   ]
  },
  {
   "cell_type": "markdown",
   "metadata": {},
   "source": [
    "#### 236.c"
   ]
  },
  {
   "cell_type": "markdown",
   "metadata": {},
   "source": [
    "Messen Sie den linearen Zusammenhang zwischen $\\frac{1}{\\varphi}$ und $R$ aus Gleichung 236.18 und stellen Sie ihn grafisch dar. Messen Sie auch alle konstanten Parameter für die folgende Auswertung. Wofür ist die Box mit Schalter und Widerstand in dem Aufbau notwendig?"
   ]
  },
  {
   "cell_type": "code",
   "execution_count": 373,
   "metadata": {},
   "outputs": [
    {
     "data": {
      "text/html": [
       "<div>\n",
       "<style scoped>\n",
       "    .dataframe tbody tr th:only-of-type {\n",
       "        vertical-align: middle;\n",
       "    }\n",
       "\n",
       "    .dataframe tbody tr th {\n",
       "        vertical-align: top;\n",
       "    }\n",
       "\n",
       "    .dataframe thead th {\n",
       "        text-align: right;\n",
       "    }\n",
       "</style>\n",
       "<table border=\"1\" class=\"dataframe\">\n",
       "  <thead>\n",
       "    <tr style=\"text-align: right;\">\n",
       "      <th></th>\n",
       "      <th>0</th>\n",
       "      <th>1</th>\n",
       "      <th>2</th>\n",
       "      <th>3</th>\n",
       "      <th>4</th>\n",
       "      <th>5</th>\n",
       "      <th>6</th>\n",
       "      <th>7</th>\n",
       "      <th>8</th>\n",
       "      <th>9</th>\n",
       "      <th>10</th>\n",
       "      <th>11</th>\n",
       "    </tr>\n",
       "  </thead>\n",
       "  <tbody>\n",
       "    <tr>\n",
       "      <th>R[ohm]</th>\n",
       "      <td>50.0</td>\n",
       "      <td>100.0</td>\n",
       "      <td>200.0</td>\n",
       "      <td>300.0</td>\n",
       "      <td>400.0</td>\n",
       "      <td>500.0</td>\n",
       "      <td>600.0</td>\n",
       "      <td>700.0</td>\n",
       "      <td>800.0</td>\n",
       "      <td>900.0</td>\n",
       "      <td>1000.0</td>\n",
       "      <td>1100.0</td>\n",
       "    </tr>\n",
       "    <tr>\n",
       "      <th>ΔR[ohm]</th>\n",
       "      <td>5.0</td>\n",
       "      <td>5.0</td>\n",
       "      <td>5.0</td>\n",
       "      <td>5.0</td>\n",
       "      <td>5.0</td>\n",
       "      <td>5.0</td>\n",
       "      <td>5.0</td>\n",
       "      <td>5.0</td>\n",
       "      <td>5.0</td>\n",
       "      <td>5.0</td>\n",
       "      <td>5.0</td>\n",
       "      <td>5.0</td>\n",
       "    </tr>\n",
       "    <tr>\n",
       "      <th>phi[skt]</th>\n",
       "      <td>51.0</td>\n",
       "      <td>40.0</td>\n",
       "      <td>30.0</td>\n",
       "      <td>23.5</td>\n",
       "      <td>19.5</td>\n",
       "      <td>17.5</td>\n",
       "      <td>15.0</td>\n",
       "      <td>12.5</td>\n",
       "      <td>11.5</td>\n",
       "      <td>10.0</td>\n",
       "      <td>9.0</td>\n",
       "      <td>8.0</td>\n",
       "    </tr>\n",
       "    <tr>\n",
       "      <th>Δphi[skt]</th>\n",
       "      <td>1.0</td>\n",
       "      <td>1.0</td>\n",
       "      <td>1.0</td>\n",
       "      <td>1.0</td>\n",
       "      <td>1.0</td>\n",
       "      <td>1.0</td>\n",
       "      <td>1.0</td>\n",
       "      <td>1.0</td>\n",
       "      <td>1.0</td>\n",
       "      <td>1.0</td>\n",
       "      <td>1.0</td>\n",
       "      <td>1.0</td>\n",
       "    </tr>\n",
       "  </tbody>\n",
       "</table>\n",
       "</div>"
      ],
      "text/plain": [
       "             0      1      2      3      4      5      6      7      8   \\\n",
       "R[ohm]     50.0  100.0  200.0  300.0  400.0  500.0  600.0  700.0  800.0   \n",
       "ΔR[ohm]     5.0    5.0    5.0    5.0    5.0    5.0    5.0    5.0    5.0   \n",
       "phi[skt]   51.0   40.0   30.0   23.5   19.5   17.5   15.0   12.5   11.5   \n",
       "Δphi[skt]   1.0    1.0    1.0    1.0    1.0    1.0    1.0    1.0    1.0   \n",
       "\n",
       "              9       10      11  \n",
       "R[ohm]     900.0  1000.0  1100.0  \n",
       "ΔR[ohm]      5.0     5.0     5.0  \n",
       "phi[skt]    10.0     9.0     8.0  \n",
       "Δphi[skt]    1.0     1.0     1.0  "
      ]
     },
     "execution_count": 373,
     "metadata": {},
     "output_type": "execute_result"
    }
   ],
   "source": [
    "c_df.T"
   ]
  },
  {
   "cell_type": "code",
   "execution_count": 374,
   "metadata": {},
   "outputs": [
    {
     "data": {
      "text/html": [
       "<div>\n",
       "<style scoped>\n",
       "    .dataframe tbody tr th:only-of-type {\n",
       "        vertical-align: middle;\n",
       "    }\n",
       "\n",
       "    .dataframe tbody tr th {\n",
       "        vertical-align: top;\n",
       "    }\n",
       "\n",
       "    .dataframe thead th {\n",
       "        text-align: right;\n",
       "    }\n",
       "</style>\n",
       "<table border=\"1\" class=\"dataframe\">\n",
       "  <thead>\n",
       "    <tr style=\"text-align: right;\">\n",
       "      <th></th>\n",
       "      <th>1/phi</th>\n",
       "      <th>Δ1/phi</th>\n",
       "      <th>R[ohm]</th>\n",
       "      <th>ΔR[ohm]</th>\n",
       "      <th>phi[skt]</th>\n",
       "      <th>Δphi[skt]</th>\n",
       "    </tr>\n",
       "  </thead>\n",
       "  <tbody>\n",
       "    <tr>\n",
       "      <th>0</th>\n",
       "      <td>0.125</td>\n",
       "      <td>0.016</td>\n",
       "      <td>1100.0</td>\n",
       "      <td>5.0</td>\n",
       "      <td>8.0</td>\n",
       "      <td>1.0</td>\n",
       "    </tr>\n",
       "    <tr>\n",
       "      <th>1</th>\n",
       "      <td>0.111</td>\n",
       "      <td>0.013</td>\n",
       "      <td>1000.0</td>\n",
       "      <td>5.0</td>\n",
       "      <td>9.0</td>\n",
       "      <td>1.0</td>\n",
       "    </tr>\n",
       "    <tr>\n",
       "      <th>2</th>\n",
       "      <td>0.100</td>\n",
       "      <td>0.010</td>\n",
       "      <td>900.0</td>\n",
       "      <td>5.0</td>\n",
       "      <td>10.0</td>\n",
       "      <td>1.0</td>\n",
       "    </tr>\n",
       "    <tr>\n",
       "      <th>3</th>\n",
       "      <td>0.087</td>\n",
       "      <td>0.008</td>\n",
       "      <td>800.0</td>\n",
       "      <td>5.0</td>\n",
       "      <td>11.5</td>\n",
       "      <td>1.0</td>\n",
       "    </tr>\n",
       "    <tr>\n",
       "      <th>4</th>\n",
       "      <td>0.080</td>\n",
       "      <td>0.007</td>\n",
       "      <td>700.0</td>\n",
       "      <td>5.0</td>\n",
       "      <td>12.5</td>\n",
       "      <td>1.0</td>\n",
       "    </tr>\n",
       "    <tr>\n",
       "      <th>5</th>\n",
       "      <td>0.067</td>\n",
       "      <td>0.005</td>\n",
       "      <td>600.0</td>\n",
       "      <td>5.0</td>\n",
       "      <td>15.0</td>\n",
       "      <td>1.0</td>\n",
       "    </tr>\n",
       "    <tr>\n",
       "      <th>6</th>\n",
       "      <td>0.057</td>\n",
       "      <td>0.004</td>\n",
       "      <td>500.0</td>\n",
       "      <td>5.0</td>\n",
       "      <td>17.5</td>\n",
       "      <td>1.0</td>\n",
       "    </tr>\n",
       "    <tr>\n",
       "      <th>7</th>\n",
       "      <td>0.051</td>\n",
       "      <td>0.003</td>\n",
       "      <td>400.0</td>\n",
       "      <td>5.0</td>\n",
       "      <td>19.5</td>\n",
       "      <td>1.0</td>\n",
       "    </tr>\n",
       "    <tr>\n",
       "      <th>8</th>\n",
       "      <td>0.043</td>\n",
       "      <td>0.002</td>\n",
       "      <td>300.0</td>\n",
       "      <td>5.0</td>\n",
       "      <td>23.5</td>\n",
       "      <td>1.0</td>\n",
       "    </tr>\n",
       "    <tr>\n",
       "      <th>9</th>\n",
       "      <td>0.033</td>\n",
       "      <td>0.002</td>\n",
       "      <td>200.0</td>\n",
       "      <td>5.0</td>\n",
       "      <td>30.0</td>\n",
       "      <td>1.0</td>\n",
       "    </tr>\n",
       "    <tr>\n",
       "      <th>10</th>\n",
       "      <td>0.025</td>\n",
       "      <td>0.001</td>\n",
       "      <td>100.0</td>\n",
       "      <td>5.0</td>\n",
       "      <td>40.0</td>\n",
       "      <td>1.0</td>\n",
       "    </tr>\n",
       "    <tr>\n",
       "      <th>11</th>\n",
       "      <td>0.020</td>\n",
       "      <td>0.001</td>\n",
       "      <td>50.0</td>\n",
       "      <td>5.0</td>\n",
       "      <td>51.0</td>\n",
       "      <td>1.0</td>\n",
       "    </tr>\n",
       "  </tbody>\n",
       "</table>\n",
       "</div>"
      ],
      "text/plain": [
       "    1/phi  Δ1/phi  R[ohm]  ΔR[ohm]  phi[skt]  Δphi[skt]\n",
       "0   0.125   0.016  1100.0      5.0       8.0        1.0\n",
       "1   0.111   0.013  1000.0      5.0       9.0        1.0\n",
       "2   0.100   0.010   900.0      5.0      10.0        1.0\n",
       "3   0.087   0.008   800.0      5.0      11.5        1.0\n",
       "4   0.080   0.007   700.0      5.0      12.5        1.0\n",
       "5   0.067   0.005   600.0      5.0      15.0        1.0\n",
       "6   0.057   0.004   500.0      5.0      17.5        1.0\n",
       "7   0.051   0.003   400.0      5.0      19.5        1.0\n",
       "8   0.043   0.002   300.0      5.0      23.5        1.0\n",
       "9   0.033   0.002   200.0      5.0      30.0        1.0\n",
       "10  0.025   0.001   100.0      5.0      40.0        1.0\n",
       "11  0.020   0.001    50.0      5.0      51.0        1.0"
      ]
     },
     "execution_count": 374,
     "metadata": {},
     "output_type": "execute_result"
    }
   ],
   "source": [
    "# Umrechnen von phi\n",
    "for dataset in c_data:\n",
    "    dataset[\"1/phi\"] = 1 / dataset[\"phi[skt]\"];\n",
    "    dataset[\"1/phi\"] = dataset[\"1/phi\"].round(3)\n",
    "\n",
    "c_data.save_to_excel(\"./output/236c_data\");\n",
    "\n",
    "c_df = c_data.get_markdownTable();\n",
    "c_df"
   ]
  },
  {
   "cell_type": "code",
   "execution_count": 375,
   "metadata": {},
   "outputs": [
    {
     "name": "stdout",
     "output_type": "stream",
     "text": [
      "Parameter: \n",
      " m: ( 89.352 ±   3.845)e-6 [⋅], n: ( 15.691 ±   0.838)e-3 [⋅]\n"
     ]
    },
    {
     "name": "stderr",
     "output_type": "stream",
     "text": [
      "C:\\Users\\flhir\\AppData\\Local\\Temp\\ipykernel_61336\\3530677109.py:18: UserWarning: FigureCanvasAgg is non-interactive, and thus cannot be shown\n",
      "  fig.show();\n"
     ]
    },
    {
     "data": {
      "image/png": "[encoded data removed]",
      "text/plain": [
       "<Figure size 640x480 with 1 Axes>"
      ]
     },
     "metadata": {},
     "output_type": "display_data"
    }
   ],
   "source": [
    "# Grapfit plot\n",
    "x_index = \"R[ohm]\";\n",
    "y_index = \"1/phi\";\n",
    "\n",
    "plot = plt.subplots();\n",
    "fig, ax = plot;\n",
    "\n",
    "func, params = GraphFit.Linear.on_data(c_data, x_index, y_index, plot);\n",
    "\n",
    "ax.grid(alpha=0.5);\n",
    "ax.set_title(r\"Plot $\\varphi^{-1}$ gegen $R$\")\n",
    "ax.set_xlabel(r\"$R [\\Omega]$\");\n",
    "ax.set_ylabel(r\"$\\varphi^{-1}$\")\n",
    "ax.lines[1].set_label(r\"$\\chi^2$ Linear Fit\")\n",
    "ax.legend(loc=\"upper left\")\n",
    "\n",
    "fig.savefig(\"./output/236c_fit.pdf\", dpi=300);\n",
    "fig.show();\n",
    "\n",
    "print(\"Parameter: \\n\", params);"
   ]
  },
  {
   "cell_type": "markdown",
   "metadata": {},
   "source": [
    "#### 236.d"
   ]
  },
  {
   "cell_type": "markdown",
   "metadata": {},
   "source": [
    "Messen Sie für 5 sinvoll ausgewählte Messpunkte (R Werte) mit einem DMM an geeigneter Stelle in der Schaltung direkt den Strom den auch vom Galvanometer gemessen wird. Bestimmen Sie daraus die Stromempfindlichkeit."
   ]
  },
  {
   "cell_type": "code",
   "execution_count": 376,
   "metadata": {},
   "outputs": [
    {
     "data": {
      "text/html": [
       "<div>\n",
       "<style scoped>\n",
       "    .dataframe tbody tr th:only-of-type {\n",
       "        vertical-align: middle;\n",
       "    }\n",
       "\n",
       "    .dataframe tbody tr th {\n",
       "        vertical-align: top;\n",
       "    }\n",
       "\n",
       "    .dataframe thead th {\n",
       "        text-align: right;\n",
       "    }\n",
       "</style>\n",
       "<table border=\"1\" class=\"dataframe\">\n",
       "  <thead>\n",
       "    <tr style=\"text-align: right;\">\n",
       "      <th></th>\n",
       "      <th>I[A]</th>\n",
       "      <th>ΔI[A]</th>\n",
       "      <th>R[ohm]</th>\n",
       "      <th>ΔR[ohm]</th>\n",
       "      <th>phi[skt]</th>\n",
       "      <th>Δphi[skt]</th>\n",
       "    </tr>\n",
       "  </thead>\n",
       "  <tbody>\n",
       "    <tr>\n",
       "      <th>0</th>\n",
       "      <td>0.000018</td>\n",
       "      <td>1.770000e-07</td>\n",
       "      <td>1100.0</td>\n",
       "      <td>5.0</td>\n",
       "      <td>8.0</td>\n",
       "      <td>1.0</td>\n",
       "    </tr>\n",
       "    <tr>\n",
       "      <th>1</th>\n",
       "      <td>0.000021</td>\n",
       "      <td>2.070000e-07</td>\n",
       "      <td>900.0</td>\n",
       "      <td>5.0</td>\n",
       "      <td>10.0</td>\n",
       "      <td>1.0</td>\n",
       "    </tr>\n",
       "    <tr>\n",
       "      <th>2</th>\n",
       "      <td>0.000026</td>\n",
       "      <td>2.580000e-07</td>\n",
       "      <td>700.0</td>\n",
       "      <td>5.0</td>\n",
       "      <td>12.5</td>\n",
       "      <td>1.0</td>\n",
       "    </tr>\n",
       "    <tr>\n",
       "      <th>3</th>\n",
       "      <td>0.000035</td>\n",
       "      <td>3.460000e-07</td>\n",
       "      <td>500.0</td>\n",
       "      <td>5.0</td>\n",
       "      <td>17.5</td>\n",
       "      <td>1.0</td>\n",
       "    </tr>\n",
       "    <tr>\n",
       "      <th>4</th>\n",
       "      <td>0.000052</td>\n",
       "      <td>5.190000e-07</td>\n",
       "      <td>300.0</td>\n",
       "      <td>5.0</td>\n",
       "      <td>23.5</td>\n",
       "      <td>1.0</td>\n",
       "    </tr>\n",
       "  </tbody>\n",
       "</table>\n",
       "</div>"
      ],
      "text/plain": [
       "       I[A]         ΔI[A]  R[ohm]  ΔR[ohm]  phi[skt]  Δphi[skt]\n",
       "0  0.000018  1.770000e-07  1100.0      5.0       8.0        1.0\n",
       "1  0.000021  2.070000e-07   900.0      5.0      10.0        1.0\n",
       "2  0.000026  2.580000e-07   700.0      5.0      12.5        1.0\n",
       "3  0.000035  3.460000e-07   500.0      5.0      17.5        1.0\n",
       "4  0.000052  5.190000e-07   300.0      5.0      23.5        1.0"
      ]
     },
     "execution_count": 376,
     "metadata": {},
     "output_type": "execute_result"
    }
   ],
   "source": [
    "d_df"
   ]
  },
  {
   "cell_type": "markdown",
   "metadata": {},
   "source": [
    "Betrachte die Gleichung\n",
    "\n",
    "$$\n",
    "\\varphi = c_I \\cdot I \n",
    "\\quad\\Leftrightarrow\\quad\n",
    "c_I = \\frac{\\varphi}{I}\n",
    "$$"
   ]
  },
  {
   "cell_type": "code",
   "execution_count": 377,
   "metadata": {},
   "outputs": [],
   "source": [
    "for dataset in d_data:\n",
    "    index = \"cI[1/A]\"\n",
    "    dataset[index] = dataset[\"phi[skt]\"] / dataset[\"I[A]\"]\n",
    "    dataset[index] = dataset[index].round(-3);\n",
    "\n",
    "d_data.save_to_excel(\"./output/236d_data\");"
   ]
  },
  {
   "cell_type": "code",
   "execution_count": 378,
   "metadata": {},
   "outputs": [
    {
     "name": "stdout",
     "output_type": "stream",
     "text": [
      "m: (451.321 ±  36.367)e+3 [⋅], n: (697.193 ± 1183.836)e-3 [⋅]\n"
     ]
    },
    {
     "name": "stderr",
     "output_type": "stream",
     "text": [
      "C:\\Users\\flhir\\AppData\\Local\\Temp\\ipykernel_61336\\1398267330.py:15: UserWarning: FigureCanvasAgg is non-interactive, and thus cannot be shown\n",
      "  fig.show();\n"
     ]
    },
    {
     "data": {
      "image/png": "[encoded data removed]",
      "text/plain": [
       "<Figure size 640x480 with 1 Axes>"
      ]
     },
     "metadata": {},
     "output_type": "display_data"
    }
   ],
   "source": [
    "plot = plt.subplots();\n",
    "fig, ax = plot;\n",
    "\n",
    "d_func, d_params = GraphFit.Linear.on_data(d_data, \"I[A]\", \"phi[skt]\", plot);\n",
    "print(d_params)\n",
    "\n",
    "ax.grid(alpha=.5, which=\"major\")\n",
    "ax.set_xlabel(r\"$I$ $[A]$\")\n",
    "ax.set_ylabel(r\"$\\varphi$ $[skt]$\")\n",
    "ax.set_title(r\"Plot $\\varphi$ gegen $I$\")\n",
    "ax.lines[1].set_label(r\"$\\chi^2$ Linear Fit\")\n",
    "ax.legend()\n",
    "\n",
    "fig.savefig(\"./output/236d_fit.pdf\", dpi=300);\n",
    "fig.show();"
   ]
  },
  {
   "cell_type": "code",
   "execution_count": 379,
   "metadata": {},
   "outputs": [
    {
     "name": "stdout",
     "output_type": "stream",
     "text": [
      "(475.600 ±  18.493)e+3 [⋅]\n"
     ]
    }
   ],
   "source": [
    "d_cI_1 = d_data.mean()[\"cI[1/A]\"];\n",
    "print(d_cI_1);"
   ]
  },
  {
   "cell_type": "code",
   "execution_count": 380,
   "metadata": {},
   "outputs": [
    {
     "name": "stdout",
     "output_type": "stream",
     "text": [
      "(463.460 ±  20.400)e+3 [⋅]\n"
     ]
    }
   ],
   "source": [
    "d_cI = 0.5 * (d_params[\"m\"] + d_cI_1)\n",
    "print(d_cI)"
   ]
  },
  {
   "cell_type": "markdown",
   "metadata": {},
   "source": [
    "#### 236.e"
   ]
  },
  {
   "cell_type": "markdown",
   "metadata": {},
   "source": [
    "Bestimmen Sie aus der Steigung der Fit-Geraden die Stromempfindlichkeit $𝑐_𝐼$ .Vergleichen Sie den Wert mit den direkt gemessenen Werten."
   ]
  },
  {
   "cell_type": "markdown",
   "metadata": {},
   "source": [
    "Die Gleichung lautet\n",
    "\n",
    "$$\n",
    "\\frac{1}{\\varphi} = \\frac{R_1 + R_2}{c_I U_0 R_2} (R_g + R) = \\frac{R_1 + R_2}{c_I U_0 R_2} \\cdot R + \\frac{R_1 + R_2}{c_I U_0 R_2} \\cdot R_g\n",
    "$$\n",
    "\n",
    "Damit entspricht die Formel einer Geraden $y= mx + b$ mit\n",
    "\n",
    "$$\n",
    "m = \\frac{R_1 + R_2}{c_I U_0 R_2}\n",
    "$$\n",
    "\n",
    "woraus folgt\n",
    "\n",
    "$$\n",
    "c_I = \\frac{R_1 + R_2}{m U_0 R_2}\n",
    "$$"
   ]
  },
  {
   "cell_type": "code",
   "execution_count": 381,
   "metadata": {},
   "outputs": [],
   "source": [
    "# define function to calculate the \"Stromempfindlichkeit\"\n",
    "def d_calc_cI(r1, r2, u0, m):\n",
    "    a = r1 + r2;\n",
    "    b = m * u0 * r2;\n",
    "    return a / b;"
   ]
  },
  {
   "cell_type": "code",
   "execution_count": 382,
   "metadata": {},
   "outputs": [
    {
     "name": "stdout",
     "output_type": "stream",
     "text": [
      "( 89.352 ±   3.845)e-6 [⋅]\n"
     ]
    }
   ],
   "source": [
    "print(params[\"m\"])"
   ]
  },
  {
   "cell_type": "code",
   "execution_count": 383,
   "metadata": {},
   "outputs": [
    {
     "name": "stdout",
     "output_type": "stream",
     "text": [
      "(512.919 ±  27.009)e+3 [⋅]\n"
     ]
    }
   ],
   "source": [
    "e_cI = d_calc_cI(c_R_1, c_R_2, U_0, params[\"m\"]);\n",
    "\n",
    "print(e_cI)"
   ]
  },
  {
   "cell_type": "code",
   "execution_count": 384,
   "metadata": {},
   "outputs": [
    {
     "name": "stdout",
     "output_type": "stream",
     "text": [
      "0.9035750579138235\n",
      "-9.64%\n"
     ]
    }
   ],
   "source": [
    "e_diff = (d_cI / e_cI).value;\n",
    "print(e_diff);\n",
    "e_abweichung = e_diff - 1;\n",
    "e_abweichung_percent = np.round(e_abweichung * 100, 2);\n",
    "e_abweichung_text = \"{0}%\".format(e_abweichung_percent)\n",
    "print(e_abweichung_text);"
   ]
  },
  {
   "cell_type": "markdown",
   "metadata": {},
   "source": [
    "#### 236.f"
   ]
  },
  {
   "cell_type": "markdown",
   "metadata": {},
   "source": [
    "Bestimmen Sie den Widerstand der Galvanometerspule $R_g$ aus dem $y$-Achsenabschnitt der Fit-Geraden, wenn die Daten gemäß Gleichung 236.18 aufgetragen sind. Andernfalls wählen Sie den äquivalenten Achsenabschnitt"
   ]
  },
  {
   "cell_type": "markdown",
   "metadata": {},
   "source": [
    "Die Gleichung lautet\n",
    "\n",
    "$$\n",
    "\\frac{1}{\\varphi} = \\frac{R_1 + R_2}{c_I U_0 R_2} (R_g + R) = \\frac{R_1 + R_2}{c_I U_0 R_2} \\cdot R + \\frac{R_1 + R_2}{c_I U_0 R_2} \\cdot R_g\n",
    "$$\n",
    "\n",
    "Damit entspricht die Formel einer Geraden $y= mx + b$ mit\n",
    "\n",
    "$$\n",
    "b = \\frac{R_1 + R_2}{c_I U_0 R_2} \\cdot R_g\n",
    "$$\n",
    "\n",
    "woraus folgt\n",
    "\n",
    "$$\n",
    "R_g = b \\cdot \\frac{c_I U_0 R_2}{R_1 + R_2}\n",
    "$$"
   ]
  },
  {
   "cell_type": "code",
   "execution_count": 385,
   "metadata": {},
   "outputs": [
    {
     "name": "stdout",
     "output_type": "stream",
     "text": [
      "( 15.691 ±   0.838)e-3 [⋅]\n"
     ]
    }
   ],
   "source": [
    "print(params[\"n\"])"
   ]
  },
  {
   "cell_type": "code",
   "execution_count": 386,
   "metadata": {},
   "outputs": [
    {
     "name": "stdout",
     "output_type": "stream",
     "text": [
      "(488.189 ±  16.924)e+3 [⋅]\n"
     ]
    }
   ],
   "source": [
    "f_cI = (d_cI + e_cI) / 2\n",
    "print(f_cI);"
   ]
  },
  {
   "cell_type": "code",
   "execution_count": 387,
   "metadata": {},
   "outputs": [],
   "source": [
    "def f_calc_Rg(r1, r2, u0, cI, b):\n",
    "    x = b * cI * u0 * r2;\n",
    "    y = r1 + r2;\n",
    "    return x / y;"
   ]
  },
  {
   "cell_type": "code",
   "execution_count": 388,
   "metadata": {},
   "outputs": [
    {
     "name": "stdout",
     "output_type": "stream",
     "text": [
      "(167.144 ±  11.789) [⋅] (105.000 ±  10.000) [ohm]\n",
      "Abweichung 1.5918436888045828\n"
     ]
    }
   ],
   "source": [
    "f_R_g = f_calc_Rg(c_R_1, c_R_2, U_0, f_cI, params[\"n\"]);\n",
    "\n",
    "print(f_R_g, g_R_g);\n",
    "print(f\"Abweichung\", (f_R_g / g_R_g).value);"
   ]
  },
  {
   "cell_type": "markdown",
   "metadata": {},
   "source": [
    "#### 236.g"
   ]
  },
  {
   "cell_type": "markdown",
   "metadata": {},
   "source": [
    "Messen Sie 𝑅g mit einem DMM oder einem Unigor und vergleichen Sie die Ergebnisse."
   ]
  },
  {
   "cell_type": "markdown",
   "metadata": {},
   "source": [
    "#### 236.h"
   ]
  },
  {
   "cell_type": "markdown",
   "metadata": {},
   "source": [
    "#### 236.i"
   ]
  },
  {
   "cell_type": "markdown",
   "metadata": {},
   "source": [
    "Die halblogarithmische Darstellung der so gemessenen Funktion $\\varphi_m(\\Delta t) = f(\\Delta t)$ ist eine Gerade. Die Steigung der Fit-Geraden liefert die Zeitkonstante $R_x C$, und damit $R_x$. Die Auswertung soll grafisch geschehen. \n",
    "\n",
    "Frage: Warum braucht man den Maximalausschlag 𝜑𝑚 nicht in Restladung 𝑞 auf dem Kondensator umzurechnen?"
   ]
  },
  {
   "cell_type": "code",
   "execution_count": 389,
   "metadata": {},
   "outputs": [
    {
     "data": {
      "image/png": "[encoded data removed]",
      "text/plain": [
       "<Figure size 640x480 with 1 Axes>"
      ]
     },
     "metadata": {},
     "output_type": "display_data"
    }
   ],
   "source": [
    "for dataset in i_data:\n",
    "  index = \"phi [skt]\";\n",
    "  value = np.log(dataset[index].value);\n",
    "  error = dataset[index].error / dataset[index].value;\n",
    "  unit = dataset[index].unit;\n",
    "  dataset[\"ln phi\"] = Measurement(value, error, unit).round(2);\n",
    "\n",
    "# i_data.save_to_excel(\"./output/236i_data\");\n",
    "\n",
    "plot, table = i_data.plot_table()\n",
    "table.scale(1, 2)\n",
    "fig, ax = plot;\n",
    "fig.savefig(\"./output/236i_data.pdf\");\n",
    "\n",
    "#i_df = i_data.sort(\"t [s]\").get_markdownTable();\n",
    "#i_df"
   ]
  },
  {
   "cell_type": "code",
   "execution_count": 390,
   "metadata": {},
   "outputs": [
    {
     "name": "stdout",
     "output_type": "stream",
     "text": [
      "m: (-83.375 ±   7.082)e-3 [⋅], n: (  4.761 ±   0.143) [⋅]\n"
     ]
    },
    {
     "data": {
      "image/png": "[encoded data removed]",
      "text/plain": [
       "<Figure size 640x480 with 1 Axes>"
      ]
     },
     "metadata": {},
     "output_type": "display_data"
    }
   ],
   "source": [
    "plot = plt.subplots();\n",
    "fig, ax = plot;\n",
    "\n",
    "i_func, i_params = GraphFit.Linear.on_data(i_data, \"t [s]\", \"ln phi\", plot);\n",
    "print(i_params)\n",
    "\n",
    "ax.set_xlabel(r\"$\\Delta t$ $[s]$\")\n",
    "ax.set_ylabel(r\"$\\ln(\\varphi)$\")\n",
    "ax.grid(alpha=.5);\n",
    "ax.lines[1].set_label(r\"$\\chi^2$ Linear Fit\")\n",
    "ax.legend()\n",
    "\n",
    "ax.set_title(r\"Plot $\\ln(\\varphi)$ gegen $\\Delta t$\")\n",
    "\n",
    "fig.savefig(\"./output/236i_fit.pdf\", dpi=300);"
   ]
  },
  {
   "cell_type": "markdown",
   "metadata": {},
   "source": [
    "Betrachten wir Gleichung 236.23\n",
    "\n",
    "$$\n",
    "q = q_0 \\cdot e^{-\\frac{t}{RC}} \\tag{236.23}\n",
    "$$\n",
    "\n",
    "Setzen wir q in Gleichung 236.27 ein:\n",
    "\n",
    "$$\n",
    "\\varphi_m = \\frac{G}{\\sqrt{D\\Theta}} q = \\frac{G}{\\sqrt{D \\Theta}} \\cdot e^{-\\frac{t}{RC}} \\tag{236.23}\n",
    "$$\n",
    "\n",
    "Nehmen wir den natürlichen Logarithmus\n",
    "\n",
    "$$\n",
    "\\ln \\left( \\varphi_m \\right) = \\ln \\left(\\frac{G}{\\sqrt{D \\Theta}} \\cdot e^{-\\frac{t}{RC}} \\right)\n",
    "$$\n",
    "\n",
    "Nutzen wir $\\ln(ab) = \\ln(a) + \\ln(b)$\n",
    "\n",
    "$$\n",
    "\\ln \\left( \\varphi_m \\right) = \\ln \\left(\\frac{G}{\\sqrt{D \\Theta}}\\right) + \\ln \\left( e^{-\\frac{t}{RC}} \\right)\n",
    "$$\n",
    "\n",
    "und das ist einfach:\n",
    "\n",
    "$$\n",
    "\\ln \\left( \\varphi_m \\right) = \\ln \\left(\\frac{G}{\\sqrt{D \\Theta}}\\right) - \\frac{1}{RC} \\cdot t\n",
    "$$\n",
    "\n",
    "wir erkennen eine Gerade mit \n",
    "\n",
    "$$ \n",
    "m = - \\frac{1}{RC} \n",
    "\\quad \\text{und} \\quad\n",
    "b = \\ln \\left(\\frac{G}{\\sqrt{D \\Theta}}\\right)\n",
    "$$\n",
    "\n",
    "Also können wir $R_x$ mit der Steigung $m$ und der Capacität $C$ berechnen:\n",
    "\n",
    "$$\n",
    "\\Leftrightarrow R = - \\frac{1}{m C}\n",
    "$$"
   ]
  },
  {
   "cell_type": "code",
   "execution_count": 391,
   "metadata": {},
   "outputs": [],
   "source": [
    "def i_calc_Rx(m, C):\n",
    "  return -1 / (m * C);"
   ]
  },
  {
   "cell_type": "code",
   "execution_count": 392,
   "metadata": {},
   "outputs": [
    {
     "name": "stdout",
     "output_type": "stream",
     "text": [
      "(-83.375 ±   7.082)e-3 [⋅]\n",
      "( 10.000 ±   0.100)e-6 [F]\n"
     ]
    }
   ],
   "source": [
    "i_m = i_params[\"m\"];\n",
    "print(i_m);\n",
    "print(i_capacity);"
   ]
  },
  {
   "cell_type": "code",
   "execution_count": 393,
   "metadata": {},
   "outputs": [
    {
     "name": "stdout",
     "output_type": "stream",
     "text": [
      "(  1.199 ±   0.103)e+6 [⋅]\n"
     ]
    }
   ],
   "source": [
    "i_R_x = i_calc_Rx(i_m, i_capacity);\n",
    "print(i_R_x)"
   ]
  },
  {
   "cell_type": "markdown",
   "metadata": {},
   "source": [
    "#### 236.j"
   ]
  },
  {
   "cell_type": "markdown",
   "metadata": {},
   "source": [
    "Messen Sie den Widerstand $R_x$ mit einem DMM und vergleichen Sie die Ergebnisse. Nehmen Sie für die Kapazität des Kondensators eine sinvolle Ungenauigkeit an."
   ]
  },
  {
   "cell_type": "markdown",
   "metadata": {},
   "source": [
    "Mit dem DMM haben wir für $R_x$ gemessen:"
   ]
  },
  {
   "cell_type": "code",
   "execution_count": 394,
   "metadata": {},
   "outputs": [
    {
     "name": "stdout",
     "output_type": "stream",
     "text": [
      "(  1.210 ±   0.010)e+6 [ohm]\n"
     ]
    }
   ],
   "source": [
    "print(j_R_x)"
   ]
  },
  {
   "cell_type": "markdown",
   "metadata": {},
   "source": [
    "In 236.i haben wir rausbekommen:"
   ]
  },
  {
   "cell_type": "code",
   "execution_count": 395,
   "metadata": {},
   "outputs": [
    {
     "name": "stdout",
     "output_type": "stream",
     "text": [
      "(  1.199 ±   0.103)e+6 [⋅]\n"
     ]
    }
   ],
   "source": [
    "print(i_R_x)"
   ]
  },
  {
   "cell_type": "markdown",
   "metadata": {},
   "source": [
    "Damit ergibt sich eine Abweichung von:"
   ]
  },
  {
   "cell_type": "code",
   "execution_count": 396,
   "metadata": {},
   "outputs": [
    {
     "name": "stdout",
     "output_type": "stream",
     "text": [
      "0.9912359874578481\n",
      "-0.88%\n"
     ]
    }
   ],
   "source": [
    "j_diff = (i_R_x / j_R_x).value\n",
    "print(j_diff);\n",
    "j_abweichung = j_diff - 1;\n",
    "j_abweichung_percent = np.round(j_abweichung * 100, 2);\n",
    "j_abweichung_text = \"{0}%\".format(j_abweichung_percent)\n",
    "print(j_abweichung_text);"
   ]
  }
 ],
 "metadata": {
  "kernelspec": {
   "display_name": "Python 3",
   "language": "python",
   "name": "python3"
  },
  "language_info": {
   "codemirror_mode": {
    "name": "ipython",
    "version": 3
   },
   "file_extension": ".py",
   "mimetype": "text/x-python",
   "name": "python",
   "nbconvert_exporter": "python",
   "pygments_lexer": "ipython3",
   "version": "3.11.9"
  }
 },
 "nbformat": 4,
 "nbformat_minor": 2
}
