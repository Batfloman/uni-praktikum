{
 "cells": [
  {
   "cell_type": "code",
   "execution_count": 1,
   "metadata": {},
   "outputs": [
    {
     "name": "stdout",
     "output_type": "stream",
     "text": [
      "c:\\Users\\flhir\\OneDrive\\Dokumente\\Obsidian\\uni-obsidian\\Praktikum\n"
     ]
    }
   ],
   "source": [
    "import sys\n",
    "import os\n",
    "\n",
    "notebook_dir = os.path.abspath('')\n",
    "_dir = os.path.dirname(notebook_dir)\n",
    "_dir = os.path.dirname(_dir)\n",
    "_dir = os.path.dirname(_dir)\n",
    "print(_dir)\n",
    "sys.path.append(_dir)"
   ]
  },
  {
   "cell_type": "code",
   "execution_count": 2,
   "metadata": {},
   "outputs": [
    {
     "name": "stdout",
     "output_type": "stream",
     "text": [
      "LaTeX exported successfully to ../equations/eq.tex\n",
      "c*(a + b)**c/(a + b)\n",
      "LaTeX exported successfully to ../equations/eq_2.tex\n",
      "sqrt(\\sigma_{a}**2*c**2*(a + b)**(2*c)/(a + b)**2 + \\sigma_{c}**2*(a + b)**(2*c)*log(a + b)**2)\n"
     ]
    }
   ],
   "source": [
    "from util import equations;\n",
    "import numpy as np;\n",
    "\n",
    "# Define a generic Python function\n",
    "def calc(a, b, c):\n",
    "    return (a + b)**c\n",
    "\n",
    "x = equations.export_as_latex(calc, \"../equations/eq\")\n",
    "print(equations.get_derivative(calc, \"a\"))\n",
    "y = equations.gaussian_error_propagation(calc, exclude={\"b\"})\n",
    "equations.export_as_latex(y, \"../equations/eq_2\")\n",
    "print(y)"
   ]
  },
  {
   "cell_type": "code",
   "execution_count": null,
   "metadata": {},
   "outputs": [],
   "source": []
  }
 ],
 "metadata": {
  "kernelspec": {
   "display_name": "Python 3",
   "language": "python",
   "name": "python3"
  },
  "language_info": {
   "codemirror_mode": {
    "name": "ipython",
    "version": 3
   },
   "file_extension": ".py",
   "mimetype": "text/x-python",
   "name": "python",
   "nbconvert_exporter": "python",
   "pygments_lexer": "ipython3",
   "version": "3.13.0"
  }
 },
 "nbformat": 4,
 "nbformat_minor": 2
}
